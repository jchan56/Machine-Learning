{
  "nbformat": 4,
  "nbformat_minor": 0,
  "metadata": {
    "colab": {
      "provenance": [],
      "authorship_tag": "ABX9TyNxQOv/FYsIVAvLzGcjJ1ZU",
      "include_colab_link": true
    },
    "kernelspec": {
      "name": "python3",
      "display_name": "Python 3"
    },
    "language_info": {
      "name": "python"
    }
  },
  "cells": [
    {
      "cell_type": "markdown",
      "metadata": {
        "id": "view-in-github",
        "colab_type": "text"
      },
      "source": [
        "<a href=\"https://colab.research.google.com/github/jchan56/Machine-Learning/blob/main/Ch_7.ipynb\" target=\"_parent\"><img src=\"https://colab.research.google.com/assets/colab-badge.svg\" alt=\"Open In Colab\"/></a>"
      ]
    },
    {
      "cell_type": "code",
      "execution_count": null,
      "metadata": {
        "id": "wJsHUhU-xSNW"
      },
      "outputs": [],
      "source": [
        "import numpy as np\n",
        "\n",
        "W, b = np.array([0.5, 0.5]), -0.7"
      ]
    },
    {
      "cell_type": "code",
      "source": [
        "\n",
        "def perceptron(x1, x2):\n",
        "    x = np.array([x1, x2])\n",
        "    tmp = np.sum( W * x ) + b\n",
        "    if tmp <= 0: return -1\n",
        "    else: return 1"
      ],
      "metadata": {
        "id": "6uekA1re4SZw"
      },
      "execution_count": null,
      "outputs": []
    },
    {
      "cell_type": "code",
      "source": [
        "\n",
        "print('--- 퍼셉트론으로 구현한 AND 게이트 ---')\n",
        "for xs in [(-1, -1), (-1, 1), (1, -1), (1, 1)]:\n",
        "    y = perceptron(xs[0], xs[1])\n",
        "    print(xs, ': ', y)\n"
      ],
      "metadata": {
        "colab": {
          "base_uri": "https://localhost:8080/"
        },
        "id": "mERMfUHy4gFn",
        "outputId": "89163e80-f377-4e86-eba9-3cc3ac0f6965"
      },
      "execution_count": null,
      "outputs": [
        {
          "output_type": "stream",
          "name": "stdout",
          "text": [
            "--- 퍼셉트론으로 구현한 AND 게이트 ---\n",
            "(-1, -1) :  -1\n",
            "(-1, 1) :  -1\n",
            "(1, -1) :  -1\n",
            "(1, 1) :  1\n"
          ]
        }
      ]
    },
    {
      "cell_type": "code",
      "source": [
        "W, b = np.array([0.7, 0.7]), .5"
      ],
      "metadata": {
        "id": "3uUs22U74krf"
      },
      "execution_count": null,
      "outputs": []
    },
    {
      "cell_type": "code",
      "source": [
        "print('--- 퍼셉트론으로 구현한 OR 게이트 ---')\n",
        "for xs in [(-1, -1), (-1, 1), (1, -1), (1, 1)]:\n",
        "    y = perceptron(xs[0], xs[1])\n",
        "    print(xs, ': ', y)"
      ],
      "metadata": {
        "colab": {
          "base_uri": "https://localhost:8080/"
        },
        "id": "5coMGpkc42mQ",
        "outputId": "d2327d10-af83-4f0c-d64b-2fb23b7076b9"
      },
      "execution_count": null,
      "outputs": [
        {
          "output_type": "stream",
          "name": "stdout",
          "text": [
            "--- 퍼셉트론으로 구현한 OR 게이트 ---\n",
            "(-1, -1) :  -1\n",
            "(-1, 1) :  1\n",
            "(1, -1) :  1\n",
            "(1, 1) :  1\n"
          ]
        }
      ]
    },
    {
      "cell_type": "code",
      "source": [
        "import numpy as np\n",
        "W, b = np.array([0, 0]), 0.0\n",
        "learning_rate = 0.01"
      ],
      "metadata": {
        "id": "jUWWli5f46Lm"
      },
      "execution_count": null,
      "outputs": []
    },
    {
      "cell_type": "code",
      "source": [
        "def activation(s):\n",
        "  if s> 0: return 1\n",
        "  elif s<0: return -1\n",
        "  return 0"
      ],
      "metadata": {
        "id": "9WyxQqfm5XEi"
      },
      "execution_count": null,
      "outputs": []
    },
    {
      "cell_type": "code",
      "source": [
        "def out(x) :\n",
        "    return activation (W.dot(x) + b)"
      ],
      "metadata": {
        "id": "XTvYeJ9w5jQI"
      },
      "execution_count": null,
      "outputs": []
    },
    {
      "cell_type": "code",
      "source": [
        "def train(x0, x1, target):\n",
        "    global W, b\n",
        "    X = np.array([x0, x1])\n",
        "    y = out(X)\n",
        "\n",
        "    ### 예측이 맞으면 아무것도 하지 않음-------------------------------------\n",
        "    if target == y: return False         # 가중치가 변경되지 않았음을 반환\n",
        "    ### 예측이 틀리면 학습 실시---------------------------------------------\n",
        "    print('가중치 수정전 target :{} y:{} b:{} W:{}'.format(target, y, b, W))\n",
        "    W = W + learning_rate * X * target   # 입력x출력 비례하여 가중치 변경\n",
        "    b = b + learning_rate * 1 * target   # 편향: 입력이 1이라고 볼 수 있음\n",
        "    print('가중치 수정후 target :{} y:{} b:{} W:{}'.format(target, y, b, W))\n",
        "    return True"
      ],
      "metadata": {
        "id": "VTg-Da1S5p49"
      },
      "execution_count": null,
      "outputs": []
    },
    {
      "cell_type": "code",
      "source": [
        "def predict(inputs):\n",
        "    outputs = []\n",
        "    for x in inputs:\n",
        "        outputs.append (out(x))\n",
        "    return outputs"
      ],
      "metadata": {
        "id": "B1Aghovc53Tv"
      },
      "execution_count": null,
      "outputs": []
    },
    {
      "cell_type": "code",
      "source": [
        "adjusted = 0\n",
        "for i in range(100):\n",
        "    adjusted += train(-1,-1, -1)    # 훈련 데이터 1\n",
        "    adjusted += train(-1, 1,  1)    # 훈련 데이터 2\n",
        "    adjusted += train( 1,-1,  1)    # 훈련 데이터 3\n",
        "    adjusted += train( 1, 1,  1)    # 훈련 데이터 4\n",
        "    print(\"iteration -------------\", i)\n",
        "    if not adjusted: break  # 모든 훈련에 대해 가중치 변화 없으면 학습종료\n",
        "    adjusted = 0"
      ],
      "metadata": {
        "colab": {
          "base_uri": "https://localhost:8080/"
        },
        "id": "4C60QiOm56bB",
        "outputId": "cea49db2-9c20-484e-da43-814c9129565c"
      },
      "execution_count": null,
      "outputs": [
        {
          "output_type": "stream",
          "name": "stdout",
          "text": [
            "가중치 수정전 target :-1 y:0 b:0.0 W:[0 0]\n",
            "가중치 수정후 target :-1 y:0 b:-0.01 W:[0.01 0.01]\n",
            "가중치 수정전 target :1 y:-1 b:-0.01 W:[0.01 0.01]\n",
            "가중치 수정후 target :1 y:-1 b:0.0 W:[0.   0.02]\n",
            "가중치 수정전 target :1 y:-1 b:0.0 W:[0.   0.02]\n",
            "가중치 수정후 target :1 y:-1 b:0.01 W:[0.01 0.01]\n",
            "iteration ------------- 0\n",
            "iteration ------------- 1\n"
          ]
        }
      ]
    },
    {
      "cell_type": "code",
      "source": [
        "X = [[-1, -1], [-1, 1], [1, -1], [1,1]]\n",
        "yhat = predict(X)\n",
        "print('x0 x1  y')\n",
        "for i in range(len(X)):\n",
        "    print('{0:2d} {1:2d} {2:2d}'.format(X[i][0], X[i][1], yhat[i]))"
      ],
      "metadata": {
        "colab": {
          "base_uri": "https://localhost:8080/"
        },
        "id": "27_g0ltZ5-ZM",
        "outputId": "4397947d-e4d4-4428-de74-297f90c068ef"
      },
      "execution_count": null,
      "outputs": [
        {
          "output_type": "stream",
          "name": "stdout",
          "text": [
            "x0 x1  y\n",
            "-1 -1 -1\n",
            "-1  1  1\n",
            " 1 -1  1\n",
            " 1  1  1\n"
          ]
        }
      ]
    },
    {
      "cell_type": "code",
      "source": [
        "adjusted = 0\n",
        "for i in range(100):\n",
        "    adjusted += train(-1,-1, -1)    # 훈련 데이터 1\n",
        "    adjusted += train(-1, 1, -1)    # 훈련 데이터 2\n",
        "    adjusted += train( 1,-1, -1)    # 훈련 데이터 3\n",
        "    adjusted += train( 1, 1,  1)    # 훈련 데이터 4\n",
        "    print(\"iteration -------------\", i)\n",
        "    if not adjusted: break  # 모든 훈련에 대해 가중치 변화 없으면 학습종료\n",
        "    adjusted = 0"
      ],
      "metadata": {
        "colab": {
          "base_uri": "https://localhost:8080/"
        },
        "id": "BmO4e1-96w8m",
        "outputId": "fbe41e8e-3d9e-4a5f-a0a3-7674603d2560"
      },
      "execution_count": null,
      "outputs": [
        {
          "output_type": "stream",
          "name": "stdout",
          "text": [
            "가중치 수정전 target :-1 y:1 b:0.01 W:[0.01 0.01]\n",
            "가중치 수정후 target :-1 y:1 b:0.0 W:[0.02 0.  ]\n",
            "가중치 수정전 target :-1 y:1 b:0.0 W:[0.02 0.  ]\n",
            "가중치 수정후 target :-1 y:1 b:-0.01 W:[0.01 0.01]\n",
            "iteration ------------- 0\n",
            "iteration ------------- 1\n"
          ]
        }
      ]
    },
    {
      "cell_type": "code",
      "source": [
        "\n",
        "X = [[-1, -1], [-1, 1], [1, -1], [1,1]]\n",
        "yhat = predict(X)\n",
        "print('x0 x1  y')\n",
        "for i in range(len(X)):\n",
        "    print('{0:2d} {1:2d} {2:2d}'.format(X[i][0], X[i][1], yhat[i]))"
      ],
      "metadata": {
        "colab": {
          "base_uri": "https://localhost:8080/"
        },
        "id": "vRoqT2I67U-Z",
        "outputId": "a07dd64d-df43-4362-f7a4-a93f2340800e"
      },
      "execution_count": null,
      "outputs": [
        {
          "output_type": "stream",
          "name": "stdout",
          "text": [
            "x0 x1  y\n",
            "-1 -1 -1\n",
            "-1  1 -1\n",
            " 1 -1 -1\n",
            " 1  1  1\n"
          ]
        }
      ]
    },
    {
      "cell_type": "code",
      "source": [
        "\n",
        "adjusted = 0\n",
        "for i in range(100):\n",
        "    adjusted += train(-1,-1,  1)    # 훈련 데이터 1\n",
        "    adjusted += train(-1, 1,  1)    # 훈련 데이터 2\n",
        "    adjusted += train( 1,-1,  1)    # 훈련 데이터 3\n",
        "    adjusted += train( 1, 1, -1)    # 훈련 데이터 4\n",
        "    print(\"iteration -------------\", i)\n",
        "    if not adjusted: break  # 모든 훈련에 대해 가중치 변화 없으면 학습종료\n",
        "    adjusted = 0"
      ],
      "metadata": {
        "colab": {
          "base_uri": "https://localhost:8080/"
        },
        "id": "KfGloShw8E6A",
        "outputId": "51655adf-d510-4c0b-f537-e653ab06a0b1"
      },
      "execution_count": null,
      "outputs": [
        {
          "output_type": "stream",
          "name": "stdout",
          "text": [
            "iteration ------------- 0\n"
          ]
        }
      ]
    },
    {
      "cell_type": "code",
      "source": [
        " #XOR 진리표는 학습이 되지 않음!!\n",
        "adjusted = 0\n",
        "for i in range(100):\n",
        "    adjusted += train(-1,-1, -1)    # 훈련 데이터 1\n",
        "    adjusted += train(-1, 1,  1)    # 훈련 데이터 2\n",
        "    adjusted += train( 1,-1,  1)    # 훈련 데이터 3\n",
        "    adjusted += train( 1, 1, -1)    # 훈련 데이터 4\n",
        "    print(\"iteration -------------\", i)\n",
        "    if not adjusted: break  # 모든 훈련에 대해 가중치 변화 없으면 학습종료\n",
        "    adjusted = 0\n"
      ],
      "metadata": {
        "colab": {
          "base_uri": "https://localhost:8080/"
        },
        "id": "rLOC7Tfv9S_G",
        "outputId": "af8a4ea5-7482-4c07-b82e-8f51a97d2545"
      },
      "execution_count": null,
      "outputs": [
        {
          "output_type": "stream",
          "name": "stdout",
          "text": [
            "가중치 수정전 target :-1 y:1 b:0.01 W:[-0.01 -0.01]\n",
            "가중치 수정후 target :-1 y:1 b:0.0 W:[0. 0.]\n",
            "가중치 수정전 target :1 y:0 b:0.0 W:[0. 0.]\n",
            "가중치 수정후 target :1 y:0 b:0.01 W:[-0.01  0.01]\n",
            "가중치 수정전 target :1 y:-1 b:0.01 W:[-0.01  0.01]\n",
            "가중치 수정후 target :1 y:-1 b:0.02 W:[0. 0.]\n",
            "가중치 수정전 target :-1 y:1 b:0.02 W:[0. 0.]\n",
            "가중치 수정후 target :-1 y:1 b:0.01 W:[-0.01 -0.01]\n",
            "iteration ------------- 0\n",
            "가중치 수정전 target :-1 y:1 b:0.01 W:[-0.01 -0.01]\n",
            "가중치 수정후 target :-1 y:1 b:0.0 W:[0. 0.]\n",
            "가중치 수정전 target :1 y:0 b:0.0 W:[0. 0.]\n",
            "가중치 수정후 target :1 y:0 b:0.01 W:[-0.01  0.01]\n",
            "가중치 수정전 target :1 y:-1 b:0.01 W:[-0.01  0.01]\n",
            "가중치 수정후 target :1 y:-1 b:0.02 W:[0. 0.]\n",
            "가중치 수정전 target :-1 y:1 b:0.02 W:[0. 0.]\n",
            "가중치 수정후 target :-1 y:1 b:0.01 W:[-0.01 -0.01]\n",
            "iteration ------------- 1\n",
            "가중치 수정전 target :-1 y:1 b:0.01 W:[-0.01 -0.01]\n",
            "가중치 수정후 target :-1 y:1 b:0.0 W:[0. 0.]\n",
            "가중치 수정전 target :1 y:0 b:0.0 W:[0. 0.]\n",
            "가중치 수정후 target :1 y:0 b:0.01 W:[-0.01  0.01]\n",
            "가중치 수정전 target :1 y:-1 b:0.01 W:[-0.01  0.01]\n",
            "가중치 수정후 target :1 y:-1 b:0.02 W:[0. 0.]\n",
            "가중치 수정전 target :-1 y:1 b:0.02 W:[0. 0.]\n",
            "가중치 수정후 target :-1 y:1 b:0.01 W:[-0.01 -0.01]\n",
            "iteration ------------- 2\n",
            "가중치 수정전 target :-1 y:1 b:0.01 W:[-0.01 -0.01]\n",
            "가중치 수정후 target :-1 y:1 b:0.0 W:[0. 0.]\n",
            "가중치 수정전 target :1 y:0 b:0.0 W:[0. 0.]\n",
            "가중치 수정후 target :1 y:0 b:0.01 W:[-0.01  0.01]\n",
            "가중치 수정전 target :1 y:-1 b:0.01 W:[-0.01  0.01]\n",
            "가중치 수정후 target :1 y:-1 b:0.02 W:[0. 0.]\n",
            "가중치 수정전 target :-1 y:1 b:0.02 W:[0. 0.]\n",
            "가중치 수정후 target :-1 y:1 b:0.01 W:[-0.01 -0.01]\n",
            "iteration ------------- 3\n",
            "가중치 수정전 target :-1 y:1 b:0.01 W:[-0.01 -0.01]\n",
            "가중치 수정후 target :-1 y:1 b:0.0 W:[0. 0.]\n",
            "가중치 수정전 target :1 y:0 b:0.0 W:[0. 0.]\n",
            "가중치 수정후 target :1 y:0 b:0.01 W:[-0.01  0.01]\n",
            "가중치 수정전 target :1 y:-1 b:0.01 W:[-0.01  0.01]\n",
            "가중치 수정후 target :1 y:-1 b:0.02 W:[0. 0.]\n",
            "가중치 수정전 target :-1 y:1 b:0.02 W:[0. 0.]\n",
            "가중치 수정후 target :-1 y:1 b:0.01 W:[-0.01 -0.01]\n",
            "iteration ------------- 4\n",
            "가중치 수정전 target :-1 y:1 b:0.01 W:[-0.01 -0.01]\n",
            "가중치 수정후 target :-1 y:1 b:0.0 W:[0. 0.]\n",
            "가중치 수정전 target :1 y:0 b:0.0 W:[0. 0.]\n",
            "가중치 수정후 target :1 y:0 b:0.01 W:[-0.01  0.01]\n",
            "가중치 수정전 target :1 y:-1 b:0.01 W:[-0.01  0.01]\n",
            "가중치 수정후 target :1 y:-1 b:0.02 W:[0. 0.]\n",
            "가중치 수정전 target :-1 y:1 b:0.02 W:[0. 0.]\n",
            "가중치 수정후 target :-1 y:1 b:0.01 W:[-0.01 -0.01]\n",
            "iteration ------------- 5\n",
            "가중치 수정전 target :-1 y:1 b:0.01 W:[-0.01 -0.01]\n",
            "가중치 수정후 target :-1 y:1 b:0.0 W:[0. 0.]\n",
            "가중치 수정전 target :1 y:0 b:0.0 W:[0. 0.]\n",
            "가중치 수정후 target :1 y:0 b:0.01 W:[-0.01  0.01]\n",
            "가중치 수정전 target :1 y:-1 b:0.01 W:[-0.01  0.01]\n",
            "가중치 수정후 target :1 y:-1 b:0.02 W:[0. 0.]\n",
            "가중치 수정전 target :-1 y:1 b:0.02 W:[0. 0.]\n",
            "가중치 수정후 target :-1 y:1 b:0.01 W:[-0.01 -0.01]\n",
            "iteration ------------- 6\n",
            "가중치 수정전 target :-1 y:1 b:0.01 W:[-0.01 -0.01]\n",
            "가중치 수정후 target :-1 y:1 b:0.0 W:[0. 0.]\n",
            "가중치 수정전 target :1 y:0 b:0.0 W:[0. 0.]\n",
            "가중치 수정후 target :1 y:0 b:0.01 W:[-0.01  0.01]\n",
            "가중치 수정전 target :1 y:-1 b:0.01 W:[-0.01  0.01]\n",
            "가중치 수정후 target :1 y:-1 b:0.02 W:[0. 0.]\n",
            "가중치 수정전 target :-1 y:1 b:0.02 W:[0. 0.]\n",
            "가중치 수정후 target :-1 y:1 b:0.01 W:[-0.01 -0.01]\n",
            "iteration ------------- 7\n",
            "가중치 수정전 target :-1 y:1 b:0.01 W:[-0.01 -0.01]\n",
            "가중치 수정후 target :-1 y:1 b:0.0 W:[0. 0.]\n",
            "가중치 수정전 target :1 y:0 b:0.0 W:[0. 0.]\n",
            "가중치 수정후 target :1 y:0 b:0.01 W:[-0.01  0.01]\n",
            "가중치 수정전 target :1 y:-1 b:0.01 W:[-0.01  0.01]\n",
            "가중치 수정후 target :1 y:-1 b:0.02 W:[0. 0.]\n",
            "가중치 수정전 target :-1 y:1 b:0.02 W:[0. 0.]\n",
            "가중치 수정후 target :-1 y:1 b:0.01 W:[-0.01 -0.01]\n",
            "iteration ------------- 8\n",
            "가중치 수정전 target :-1 y:1 b:0.01 W:[-0.01 -0.01]\n",
            "가중치 수정후 target :-1 y:1 b:0.0 W:[0. 0.]\n",
            "가중치 수정전 target :1 y:0 b:0.0 W:[0. 0.]\n",
            "가중치 수정후 target :1 y:0 b:0.01 W:[-0.01  0.01]\n",
            "가중치 수정전 target :1 y:-1 b:0.01 W:[-0.01  0.01]\n",
            "가중치 수정후 target :1 y:-1 b:0.02 W:[0. 0.]\n",
            "가중치 수정전 target :-1 y:1 b:0.02 W:[0. 0.]\n",
            "가중치 수정후 target :-1 y:1 b:0.01 W:[-0.01 -0.01]\n",
            "iteration ------------- 9\n",
            "가중치 수정전 target :-1 y:1 b:0.01 W:[-0.01 -0.01]\n",
            "가중치 수정후 target :-1 y:1 b:0.0 W:[0. 0.]\n",
            "가중치 수정전 target :1 y:0 b:0.0 W:[0. 0.]\n",
            "가중치 수정후 target :1 y:0 b:0.01 W:[-0.01  0.01]\n",
            "가중치 수정전 target :1 y:-1 b:0.01 W:[-0.01  0.01]\n",
            "가중치 수정후 target :1 y:-1 b:0.02 W:[0. 0.]\n",
            "가중치 수정전 target :-1 y:1 b:0.02 W:[0. 0.]\n",
            "가중치 수정후 target :-1 y:1 b:0.01 W:[-0.01 -0.01]\n",
            "iteration ------------- 10\n",
            "가중치 수정전 target :-1 y:1 b:0.01 W:[-0.01 -0.01]\n",
            "가중치 수정후 target :-1 y:1 b:0.0 W:[0. 0.]\n",
            "가중치 수정전 target :1 y:0 b:0.0 W:[0. 0.]\n",
            "가중치 수정후 target :1 y:0 b:0.01 W:[-0.01  0.01]\n",
            "가중치 수정전 target :1 y:-1 b:0.01 W:[-0.01  0.01]\n",
            "가중치 수정후 target :1 y:-1 b:0.02 W:[0. 0.]\n",
            "가중치 수정전 target :-1 y:1 b:0.02 W:[0. 0.]\n",
            "가중치 수정후 target :-1 y:1 b:0.01 W:[-0.01 -0.01]\n",
            "iteration ------------- 11\n",
            "가중치 수정전 target :-1 y:1 b:0.01 W:[-0.01 -0.01]\n",
            "가중치 수정후 target :-1 y:1 b:0.0 W:[0. 0.]\n",
            "가중치 수정전 target :1 y:0 b:0.0 W:[0. 0.]\n",
            "가중치 수정후 target :1 y:0 b:0.01 W:[-0.01  0.01]\n",
            "가중치 수정전 target :1 y:-1 b:0.01 W:[-0.01  0.01]\n",
            "가중치 수정후 target :1 y:-1 b:0.02 W:[0. 0.]\n",
            "가중치 수정전 target :-1 y:1 b:0.02 W:[0. 0.]\n",
            "가중치 수정후 target :-1 y:1 b:0.01 W:[-0.01 -0.01]\n",
            "iteration ------------- 12\n",
            "가중치 수정전 target :-1 y:1 b:0.01 W:[-0.01 -0.01]\n",
            "가중치 수정후 target :-1 y:1 b:0.0 W:[0. 0.]\n",
            "가중치 수정전 target :1 y:0 b:0.0 W:[0. 0.]\n",
            "가중치 수정후 target :1 y:0 b:0.01 W:[-0.01  0.01]\n",
            "가중치 수정전 target :1 y:-1 b:0.01 W:[-0.01  0.01]\n",
            "가중치 수정후 target :1 y:-1 b:0.02 W:[0. 0.]\n",
            "가중치 수정전 target :-1 y:1 b:0.02 W:[0. 0.]\n",
            "가중치 수정후 target :-1 y:1 b:0.01 W:[-0.01 -0.01]\n",
            "iteration ------------- 13\n",
            "가중치 수정전 target :-1 y:1 b:0.01 W:[-0.01 -0.01]\n",
            "가중치 수정후 target :-1 y:1 b:0.0 W:[0. 0.]\n",
            "가중치 수정전 target :1 y:0 b:0.0 W:[0. 0.]\n",
            "가중치 수정후 target :1 y:0 b:0.01 W:[-0.01  0.01]\n",
            "가중치 수정전 target :1 y:-1 b:0.01 W:[-0.01  0.01]\n",
            "가중치 수정후 target :1 y:-1 b:0.02 W:[0. 0.]\n",
            "가중치 수정전 target :-1 y:1 b:0.02 W:[0. 0.]\n",
            "가중치 수정후 target :-1 y:1 b:0.01 W:[-0.01 -0.01]\n",
            "iteration ------------- 14\n",
            "가중치 수정전 target :-1 y:1 b:0.01 W:[-0.01 -0.01]\n",
            "가중치 수정후 target :-1 y:1 b:0.0 W:[0. 0.]\n",
            "가중치 수정전 target :1 y:0 b:0.0 W:[0. 0.]\n",
            "가중치 수정후 target :1 y:0 b:0.01 W:[-0.01  0.01]\n",
            "가중치 수정전 target :1 y:-1 b:0.01 W:[-0.01  0.01]\n",
            "가중치 수정후 target :1 y:-1 b:0.02 W:[0. 0.]\n",
            "가중치 수정전 target :-1 y:1 b:0.02 W:[0. 0.]\n",
            "가중치 수정후 target :-1 y:1 b:0.01 W:[-0.01 -0.01]\n",
            "iteration ------------- 15\n",
            "가중치 수정전 target :-1 y:1 b:0.01 W:[-0.01 -0.01]\n",
            "가중치 수정후 target :-1 y:1 b:0.0 W:[0. 0.]\n",
            "가중치 수정전 target :1 y:0 b:0.0 W:[0. 0.]\n",
            "가중치 수정후 target :1 y:0 b:0.01 W:[-0.01  0.01]\n",
            "가중치 수정전 target :1 y:-1 b:0.01 W:[-0.01  0.01]\n",
            "가중치 수정후 target :1 y:-1 b:0.02 W:[0. 0.]\n",
            "가중치 수정전 target :-1 y:1 b:0.02 W:[0. 0.]\n",
            "가중치 수정후 target :-1 y:1 b:0.01 W:[-0.01 -0.01]\n",
            "iteration ------------- 16\n",
            "가중치 수정전 target :-1 y:1 b:0.01 W:[-0.01 -0.01]\n",
            "가중치 수정후 target :-1 y:1 b:0.0 W:[0. 0.]\n",
            "가중치 수정전 target :1 y:0 b:0.0 W:[0. 0.]\n",
            "가중치 수정후 target :1 y:0 b:0.01 W:[-0.01  0.01]\n",
            "가중치 수정전 target :1 y:-1 b:0.01 W:[-0.01  0.01]\n",
            "가중치 수정후 target :1 y:-1 b:0.02 W:[0. 0.]\n",
            "가중치 수정전 target :-1 y:1 b:0.02 W:[0. 0.]\n",
            "가중치 수정후 target :-1 y:1 b:0.01 W:[-0.01 -0.01]\n",
            "iteration ------------- 17\n",
            "가중치 수정전 target :-1 y:1 b:0.01 W:[-0.01 -0.01]\n",
            "가중치 수정후 target :-1 y:1 b:0.0 W:[0. 0.]\n",
            "가중치 수정전 target :1 y:0 b:0.0 W:[0. 0.]\n",
            "가중치 수정후 target :1 y:0 b:0.01 W:[-0.01  0.01]\n",
            "가중치 수정전 target :1 y:-1 b:0.01 W:[-0.01  0.01]\n",
            "가중치 수정후 target :1 y:-1 b:0.02 W:[0. 0.]\n",
            "가중치 수정전 target :-1 y:1 b:0.02 W:[0. 0.]\n",
            "가중치 수정후 target :-1 y:1 b:0.01 W:[-0.01 -0.01]\n",
            "iteration ------------- 18\n",
            "가중치 수정전 target :-1 y:1 b:0.01 W:[-0.01 -0.01]\n",
            "가중치 수정후 target :-1 y:1 b:0.0 W:[0. 0.]\n",
            "가중치 수정전 target :1 y:0 b:0.0 W:[0. 0.]\n",
            "가중치 수정후 target :1 y:0 b:0.01 W:[-0.01  0.01]\n",
            "가중치 수정전 target :1 y:-1 b:0.01 W:[-0.01  0.01]\n",
            "가중치 수정후 target :1 y:-1 b:0.02 W:[0. 0.]\n",
            "가중치 수정전 target :-1 y:1 b:0.02 W:[0. 0.]\n",
            "가중치 수정후 target :-1 y:1 b:0.01 W:[-0.01 -0.01]\n",
            "iteration ------------- 19\n",
            "가중치 수정전 target :-1 y:1 b:0.01 W:[-0.01 -0.01]\n",
            "가중치 수정후 target :-1 y:1 b:0.0 W:[0. 0.]\n",
            "가중치 수정전 target :1 y:0 b:0.0 W:[0. 0.]\n",
            "가중치 수정후 target :1 y:0 b:0.01 W:[-0.01  0.01]\n",
            "가중치 수정전 target :1 y:-1 b:0.01 W:[-0.01  0.01]\n",
            "가중치 수정후 target :1 y:-1 b:0.02 W:[0. 0.]\n",
            "가중치 수정전 target :-1 y:1 b:0.02 W:[0. 0.]\n",
            "가중치 수정후 target :-1 y:1 b:0.01 W:[-0.01 -0.01]\n",
            "iteration ------------- 20\n",
            "가중치 수정전 target :-1 y:1 b:0.01 W:[-0.01 -0.01]\n",
            "가중치 수정후 target :-1 y:1 b:0.0 W:[0. 0.]\n",
            "가중치 수정전 target :1 y:0 b:0.0 W:[0. 0.]\n",
            "가중치 수정후 target :1 y:0 b:0.01 W:[-0.01  0.01]\n",
            "가중치 수정전 target :1 y:-1 b:0.01 W:[-0.01  0.01]\n",
            "가중치 수정후 target :1 y:-1 b:0.02 W:[0. 0.]\n",
            "가중치 수정전 target :-1 y:1 b:0.02 W:[0. 0.]\n",
            "가중치 수정후 target :-1 y:1 b:0.01 W:[-0.01 -0.01]\n",
            "iteration ------------- 21\n",
            "가중치 수정전 target :-1 y:1 b:0.01 W:[-0.01 -0.01]\n",
            "가중치 수정후 target :-1 y:1 b:0.0 W:[0. 0.]\n",
            "가중치 수정전 target :1 y:0 b:0.0 W:[0. 0.]\n",
            "가중치 수정후 target :1 y:0 b:0.01 W:[-0.01  0.01]\n",
            "가중치 수정전 target :1 y:-1 b:0.01 W:[-0.01  0.01]\n",
            "가중치 수정후 target :1 y:-1 b:0.02 W:[0. 0.]\n",
            "가중치 수정전 target :-1 y:1 b:0.02 W:[0. 0.]\n",
            "가중치 수정후 target :-1 y:1 b:0.01 W:[-0.01 -0.01]\n",
            "iteration ------------- 22\n",
            "가중치 수정전 target :-1 y:1 b:0.01 W:[-0.01 -0.01]\n",
            "가중치 수정후 target :-1 y:1 b:0.0 W:[0. 0.]\n",
            "가중치 수정전 target :1 y:0 b:0.0 W:[0. 0.]\n",
            "가중치 수정후 target :1 y:0 b:0.01 W:[-0.01  0.01]\n",
            "가중치 수정전 target :1 y:-1 b:0.01 W:[-0.01  0.01]\n",
            "가중치 수정후 target :1 y:-1 b:0.02 W:[0. 0.]\n",
            "가중치 수정전 target :-1 y:1 b:0.02 W:[0. 0.]\n",
            "가중치 수정후 target :-1 y:1 b:0.01 W:[-0.01 -0.01]\n",
            "iteration ------------- 23\n",
            "가중치 수정전 target :-1 y:1 b:0.01 W:[-0.01 -0.01]\n",
            "가중치 수정후 target :-1 y:1 b:0.0 W:[0. 0.]\n",
            "가중치 수정전 target :1 y:0 b:0.0 W:[0. 0.]\n",
            "가중치 수정후 target :1 y:0 b:0.01 W:[-0.01  0.01]\n",
            "가중치 수정전 target :1 y:-1 b:0.01 W:[-0.01  0.01]\n",
            "가중치 수정후 target :1 y:-1 b:0.02 W:[0. 0.]\n",
            "가중치 수정전 target :-1 y:1 b:0.02 W:[0. 0.]\n",
            "가중치 수정후 target :-1 y:1 b:0.01 W:[-0.01 -0.01]\n",
            "iteration ------------- 24\n",
            "가중치 수정전 target :-1 y:1 b:0.01 W:[-0.01 -0.01]\n",
            "가중치 수정후 target :-1 y:1 b:0.0 W:[0. 0.]\n",
            "가중치 수정전 target :1 y:0 b:0.0 W:[0. 0.]\n",
            "가중치 수정후 target :1 y:0 b:0.01 W:[-0.01  0.01]\n",
            "가중치 수정전 target :1 y:-1 b:0.01 W:[-0.01  0.01]\n",
            "가중치 수정후 target :1 y:-1 b:0.02 W:[0. 0.]\n",
            "가중치 수정전 target :-1 y:1 b:0.02 W:[0. 0.]\n",
            "가중치 수정후 target :-1 y:1 b:0.01 W:[-0.01 -0.01]\n",
            "iteration ------------- 25\n",
            "가중치 수정전 target :-1 y:1 b:0.01 W:[-0.01 -0.01]\n",
            "가중치 수정후 target :-1 y:1 b:0.0 W:[0. 0.]\n",
            "가중치 수정전 target :1 y:0 b:0.0 W:[0. 0.]\n",
            "가중치 수정후 target :1 y:0 b:0.01 W:[-0.01  0.01]\n",
            "가중치 수정전 target :1 y:-1 b:0.01 W:[-0.01  0.01]\n",
            "가중치 수정후 target :1 y:-1 b:0.02 W:[0. 0.]\n",
            "가중치 수정전 target :-1 y:1 b:0.02 W:[0. 0.]\n",
            "가중치 수정후 target :-1 y:1 b:0.01 W:[-0.01 -0.01]\n",
            "iteration ------------- 26\n",
            "가중치 수정전 target :-1 y:1 b:0.01 W:[-0.01 -0.01]\n",
            "가중치 수정후 target :-1 y:1 b:0.0 W:[0. 0.]\n",
            "가중치 수정전 target :1 y:0 b:0.0 W:[0. 0.]\n",
            "가중치 수정후 target :1 y:0 b:0.01 W:[-0.01  0.01]\n",
            "가중치 수정전 target :1 y:-1 b:0.01 W:[-0.01  0.01]\n",
            "가중치 수정후 target :1 y:-1 b:0.02 W:[0. 0.]\n",
            "가중치 수정전 target :-1 y:1 b:0.02 W:[0. 0.]\n",
            "가중치 수정후 target :-1 y:1 b:0.01 W:[-0.01 -0.01]\n",
            "iteration ------------- 27\n",
            "가중치 수정전 target :-1 y:1 b:0.01 W:[-0.01 -0.01]\n",
            "가중치 수정후 target :-1 y:1 b:0.0 W:[0. 0.]\n",
            "가중치 수정전 target :1 y:0 b:0.0 W:[0. 0.]\n",
            "가중치 수정후 target :1 y:0 b:0.01 W:[-0.01  0.01]\n",
            "가중치 수정전 target :1 y:-1 b:0.01 W:[-0.01  0.01]\n",
            "가중치 수정후 target :1 y:-1 b:0.02 W:[0. 0.]\n",
            "가중치 수정전 target :-1 y:1 b:0.02 W:[0. 0.]\n",
            "가중치 수정후 target :-1 y:1 b:0.01 W:[-0.01 -0.01]\n",
            "iteration ------------- 28\n",
            "가중치 수정전 target :-1 y:1 b:0.01 W:[-0.01 -0.01]\n",
            "가중치 수정후 target :-1 y:1 b:0.0 W:[0. 0.]\n",
            "가중치 수정전 target :1 y:0 b:0.0 W:[0. 0.]\n",
            "가중치 수정후 target :1 y:0 b:0.01 W:[-0.01  0.01]\n",
            "가중치 수정전 target :1 y:-1 b:0.01 W:[-0.01  0.01]\n",
            "가중치 수정후 target :1 y:-1 b:0.02 W:[0. 0.]\n",
            "가중치 수정전 target :-1 y:1 b:0.02 W:[0. 0.]\n",
            "가중치 수정후 target :-1 y:1 b:0.01 W:[-0.01 -0.01]\n",
            "iteration ------------- 29\n",
            "가중치 수정전 target :-1 y:1 b:0.01 W:[-0.01 -0.01]\n",
            "가중치 수정후 target :-1 y:1 b:0.0 W:[0. 0.]\n",
            "가중치 수정전 target :1 y:0 b:0.0 W:[0. 0.]\n",
            "가중치 수정후 target :1 y:0 b:0.01 W:[-0.01  0.01]\n",
            "가중치 수정전 target :1 y:-1 b:0.01 W:[-0.01  0.01]\n",
            "가중치 수정후 target :1 y:-1 b:0.02 W:[0. 0.]\n",
            "가중치 수정전 target :-1 y:1 b:0.02 W:[0. 0.]\n",
            "가중치 수정후 target :-1 y:1 b:0.01 W:[-0.01 -0.01]\n",
            "iteration ------------- 30\n",
            "가중치 수정전 target :-1 y:1 b:0.01 W:[-0.01 -0.01]\n",
            "가중치 수정후 target :-1 y:1 b:0.0 W:[0. 0.]\n",
            "가중치 수정전 target :1 y:0 b:0.0 W:[0. 0.]\n",
            "가중치 수정후 target :1 y:0 b:0.01 W:[-0.01  0.01]\n",
            "가중치 수정전 target :1 y:-1 b:0.01 W:[-0.01  0.01]\n",
            "가중치 수정후 target :1 y:-1 b:0.02 W:[0. 0.]\n",
            "가중치 수정전 target :-1 y:1 b:0.02 W:[0. 0.]\n",
            "가중치 수정후 target :-1 y:1 b:0.01 W:[-0.01 -0.01]\n",
            "iteration ------------- 31\n",
            "가중치 수정전 target :-1 y:1 b:0.01 W:[-0.01 -0.01]\n",
            "가중치 수정후 target :-1 y:1 b:0.0 W:[0. 0.]\n",
            "가중치 수정전 target :1 y:0 b:0.0 W:[0. 0.]\n",
            "가중치 수정후 target :1 y:0 b:0.01 W:[-0.01  0.01]\n",
            "가중치 수정전 target :1 y:-1 b:0.01 W:[-0.01  0.01]\n",
            "가중치 수정후 target :1 y:-1 b:0.02 W:[0. 0.]\n",
            "가중치 수정전 target :-1 y:1 b:0.02 W:[0. 0.]\n",
            "가중치 수정후 target :-1 y:1 b:0.01 W:[-0.01 -0.01]\n",
            "iteration ------------- 32\n",
            "가중치 수정전 target :-1 y:1 b:0.01 W:[-0.01 -0.01]\n",
            "가중치 수정후 target :-1 y:1 b:0.0 W:[0. 0.]\n",
            "가중치 수정전 target :1 y:0 b:0.0 W:[0. 0.]\n",
            "가중치 수정후 target :1 y:0 b:0.01 W:[-0.01  0.01]\n",
            "가중치 수정전 target :1 y:-1 b:0.01 W:[-0.01  0.01]\n",
            "가중치 수정후 target :1 y:-1 b:0.02 W:[0. 0.]\n",
            "가중치 수정전 target :-1 y:1 b:0.02 W:[0. 0.]\n",
            "가중치 수정후 target :-1 y:1 b:0.01 W:[-0.01 -0.01]\n",
            "iteration ------------- 33\n",
            "가중치 수정전 target :-1 y:1 b:0.01 W:[-0.01 -0.01]\n",
            "가중치 수정후 target :-1 y:1 b:0.0 W:[0. 0.]\n",
            "가중치 수정전 target :1 y:0 b:0.0 W:[0. 0.]\n",
            "가중치 수정후 target :1 y:0 b:0.01 W:[-0.01  0.01]\n",
            "가중치 수정전 target :1 y:-1 b:0.01 W:[-0.01  0.01]\n",
            "가중치 수정후 target :1 y:-1 b:0.02 W:[0. 0.]\n",
            "가중치 수정전 target :-1 y:1 b:0.02 W:[0. 0.]\n",
            "가중치 수정후 target :-1 y:1 b:0.01 W:[-0.01 -0.01]\n",
            "iteration ------------- 34\n",
            "가중치 수정전 target :-1 y:1 b:0.01 W:[-0.01 -0.01]\n",
            "가중치 수정후 target :-1 y:1 b:0.0 W:[0. 0.]\n",
            "가중치 수정전 target :1 y:0 b:0.0 W:[0. 0.]\n",
            "가중치 수정후 target :1 y:0 b:0.01 W:[-0.01  0.01]\n",
            "가중치 수정전 target :1 y:-1 b:0.01 W:[-0.01  0.01]\n",
            "가중치 수정후 target :1 y:-1 b:0.02 W:[0. 0.]\n",
            "가중치 수정전 target :-1 y:1 b:0.02 W:[0. 0.]\n",
            "가중치 수정후 target :-1 y:1 b:0.01 W:[-0.01 -0.01]\n",
            "iteration ------------- 35\n",
            "가중치 수정전 target :-1 y:1 b:0.01 W:[-0.01 -0.01]\n",
            "가중치 수정후 target :-1 y:1 b:0.0 W:[0. 0.]\n",
            "가중치 수정전 target :1 y:0 b:0.0 W:[0. 0.]\n",
            "가중치 수정후 target :1 y:0 b:0.01 W:[-0.01  0.01]\n",
            "가중치 수정전 target :1 y:-1 b:0.01 W:[-0.01  0.01]\n",
            "가중치 수정후 target :1 y:-1 b:0.02 W:[0. 0.]\n",
            "가중치 수정전 target :-1 y:1 b:0.02 W:[0. 0.]\n",
            "가중치 수정후 target :-1 y:1 b:0.01 W:[-0.01 -0.01]\n",
            "iteration ------------- 36\n",
            "가중치 수정전 target :-1 y:1 b:0.01 W:[-0.01 -0.01]\n",
            "가중치 수정후 target :-1 y:1 b:0.0 W:[0. 0.]\n",
            "가중치 수정전 target :1 y:0 b:0.0 W:[0. 0.]\n",
            "가중치 수정후 target :1 y:0 b:0.01 W:[-0.01  0.01]\n",
            "가중치 수정전 target :1 y:-1 b:0.01 W:[-0.01  0.01]\n",
            "가중치 수정후 target :1 y:-1 b:0.02 W:[0. 0.]\n",
            "가중치 수정전 target :-1 y:1 b:0.02 W:[0. 0.]\n",
            "가중치 수정후 target :-1 y:1 b:0.01 W:[-0.01 -0.01]\n",
            "iteration ------------- 37\n",
            "가중치 수정전 target :-1 y:1 b:0.01 W:[-0.01 -0.01]\n",
            "가중치 수정후 target :-1 y:1 b:0.0 W:[0. 0.]\n",
            "가중치 수정전 target :1 y:0 b:0.0 W:[0. 0.]\n",
            "가중치 수정후 target :1 y:0 b:0.01 W:[-0.01  0.01]\n",
            "가중치 수정전 target :1 y:-1 b:0.01 W:[-0.01  0.01]\n",
            "가중치 수정후 target :1 y:-1 b:0.02 W:[0. 0.]\n",
            "가중치 수정전 target :-1 y:1 b:0.02 W:[0. 0.]\n",
            "가중치 수정후 target :-1 y:1 b:0.01 W:[-0.01 -0.01]\n",
            "iteration ------------- 38\n",
            "가중치 수정전 target :-1 y:1 b:0.01 W:[-0.01 -0.01]\n",
            "가중치 수정후 target :-1 y:1 b:0.0 W:[0. 0.]\n",
            "가중치 수정전 target :1 y:0 b:0.0 W:[0. 0.]\n",
            "가중치 수정후 target :1 y:0 b:0.01 W:[-0.01  0.01]\n",
            "가중치 수정전 target :1 y:-1 b:0.01 W:[-0.01  0.01]\n",
            "가중치 수정후 target :1 y:-1 b:0.02 W:[0. 0.]\n",
            "가중치 수정전 target :-1 y:1 b:0.02 W:[0. 0.]\n",
            "가중치 수정후 target :-1 y:1 b:0.01 W:[-0.01 -0.01]\n",
            "iteration ------------- 39\n",
            "가중치 수정전 target :-1 y:1 b:0.01 W:[-0.01 -0.01]\n",
            "가중치 수정후 target :-1 y:1 b:0.0 W:[0. 0.]\n",
            "가중치 수정전 target :1 y:0 b:0.0 W:[0. 0.]\n",
            "가중치 수정후 target :1 y:0 b:0.01 W:[-0.01  0.01]\n",
            "가중치 수정전 target :1 y:-1 b:0.01 W:[-0.01  0.01]\n",
            "가중치 수정후 target :1 y:-1 b:0.02 W:[0. 0.]\n",
            "가중치 수정전 target :-1 y:1 b:0.02 W:[0. 0.]\n",
            "가중치 수정후 target :-1 y:1 b:0.01 W:[-0.01 -0.01]\n",
            "iteration ------------- 40\n",
            "가중치 수정전 target :-1 y:1 b:0.01 W:[-0.01 -0.01]\n",
            "가중치 수정후 target :-1 y:1 b:0.0 W:[0. 0.]\n",
            "가중치 수정전 target :1 y:0 b:0.0 W:[0. 0.]\n",
            "가중치 수정후 target :1 y:0 b:0.01 W:[-0.01  0.01]\n",
            "가중치 수정전 target :1 y:-1 b:0.01 W:[-0.01  0.01]\n",
            "가중치 수정후 target :1 y:-1 b:0.02 W:[0. 0.]\n",
            "가중치 수정전 target :-1 y:1 b:0.02 W:[0. 0.]\n",
            "가중치 수정후 target :-1 y:1 b:0.01 W:[-0.01 -0.01]\n",
            "iteration ------------- 41\n",
            "가중치 수정전 target :-1 y:1 b:0.01 W:[-0.01 -0.01]\n",
            "가중치 수정후 target :-1 y:1 b:0.0 W:[0. 0.]\n",
            "가중치 수정전 target :1 y:0 b:0.0 W:[0. 0.]\n",
            "가중치 수정후 target :1 y:0 b:0.01 W:[-0.01  0.01]\n",
            "가중치 수정전 target :1 y:-1 b:0.01 W:[-0.01  0.01]\n",
            "가중치 수정후 target :1 y:-1 b:0.02 W:[0. 0.]\n",
            "가중치 수정전 target :-1 y:1 b:0.02 W:[0. 0.]\n",
            "가중치 수정후 target :-1 y:1 b:0.01 W:[-0.01 -0.01]\n",
            "iteration ------------- 42\n",
            "가중치 수정전 target :-1 y:1 b:0.01 W:[-0.01 -0.01]\n",
            "가중치 수정후 target :-1 y:1 b:0.0 W:[0. 0.]\n",
            "가중치 수정전 target :1 y:0 b:0.0 W:[0. 0.]\n",
            "가중치 수정후 target :1 y:0 b:0.01 W:[-0.01  0.01]\n",
            "가중치 수정전 target :1 y:-1 b:0.01 W:[-0.01  0.01]\n",
            "가중치 수정후 target :1 y:-1 b:0.02 W:[0. 0.]\n",
            "가중치 수정전 target :-1 y:1 b:0.02 W:[0. 0.]\n",
            "가중치 수정후 target :-1 y:1 b:0.01 W:[-0.01 -0.01]\n",
            "iteration ------------- 43\n",
            "가중치 수정전 target :-1 y:1 b:0.01 W:[-0.01 -0.01]\n",
            "가중치 수정후 target :-1 y:1 b:0.0 W:[0. 0.]\n",
            "가중치 수정전 target :1 y:0 b:0.0 W:[0. 0.]\n",
            "가중치 수정후 target :1 y:0 b:0.01 W:[-0.01  0.01]\n",
            "가중치 수정전 target :1 y:-1 b:0.01 W:[-0.01  0.01]\n",
            "가중치 수정후 target :1 y:-1 b:0.02 W:[0. 0.]\n",
            "가중치 수정전 target :-1 y:1 b:0.02 W:[0. 0.]\n",
            "가중치 수정후 target :-1 y:1 b:0.01 W:[-0.01 -0.01]\n",
            "iteration ------------- 44\n",
            "가중치 수정전 target :-1 y:1 b:0.01 W:[-0.01 -0.01]\n",
            "가중치 수정후 target :-1 y:1 b:0.0 W:[0. 0.]\n",
            "가중치 수정전 target :1 y:0 b:0.0 W:[0. 0.]\n",
            "가중치 수정후 target :1 y:0 b:0.01 W:[-0.01  0.01]\n",
            "가중치 수정전 target :1 y:-1 b:0.01 W:[-0.01  0.01]\n",
            "가중치 수정후 target :1 y:-1 b:0.02 W:[0. 0.]\n",
            "가중치 수정전 target :-1 y:1 b:0.02 W:[0. 0.]\n",
            "가중치 수정후 target :-1 y:1 b:0.01 W:[-0.01 -0.01]\n",
            "iteration ------------- 45\n",
            "가중치 수정전 target :-1 y:1 b:0.01 W:[-0.01 -0.01]\n",
            "가중치 수정후 target :-1 y:1 b:0.0 W:[0. 0.]\n",
            "가중치 수정전 target :1 y:0 b:0.0 W:[0. 0.]\n",
            "가중치 수정후 target :1 y:0 b:0.01 W:[-0.01  0.01]\n",
            "가중치 수정전 target :1 y:-1 b:0.01 W:[-0.01  0.01]\n",
            "가중치 수정후 target :1 y:-1 b:0.02 W:[0. 0.]\n",
            "가중치 수정전 target :-1 y:1 b:0.02 W:[0. 0.]\n",
            "가중치 수정후 target :-1 y:1 b:0.01 W:[-0.01 -0.01]\n",
            "iteration ------------- 46\n",
            "가중치 수정전 target :-1 y:1 b:0.01 W:[-0.01 -0.01]\n",
            "가중치 수정후 target :-1 y:1 b:0.0 W:[0. 0.]\n",
            "가중치 수정전 target :1 y:0 b:0.0 W:[0. 0.]\n",
            "가중치 수정후 target :1 y:0 b:0.01 W:[-0.01  0.01]\n",
            "가중치 수정전 target :1 y:-1 b:0.01 W:[-0.01  0.01]\n",
            "가중치 수정후 target :1 y:-1 b:0.02 W:[0. 0.]\n",
            "가중치 수정전 target :-1 y:1 b:0.02 W:[0. 0.]\n",
            "가중치 수정후 target :-1 y:1 b:0.01 W:[-0.01 -0.01]\n",
            "iteration ------------- 47\n",
            "가중치 수정전 target :-1 y:1 b:0.01 W:[-0.01 -0.01]\n",
            "가중치 수정후 target :-1 y:1 b:0.0 W:[0. 0.]\n",
            "가중치 수정전 target :1 y:0 b:0.0 W:[0. 0.]\n",
            "가중치 수정후 target :1 y:0 b:0.01 W:[-0.01  0.01]\n",
            "가중치 수정전 target :1 y:-1 b:0.01 W:[-0.01  0.01]\n",
            "가중치 수정후 target :1 y:-1 b:0.02 W:[0. 0.]\n",
            "가중치 수정전 target :-1 y:1 b:0.02 W:[0. 0.]\n",
            "가중치 수정후 target :-1 y:1 b:0.01 W:[-0.01 -0.01]\n",
            "iteration ------------- 48\n",
            "가중치 수정전 target :-1 y:1 b:0.01 W:[-0.01 -0.01]\n",
            "가중치 수정후 target :-1 y:1 b:0.0 W:[0. 0.]\n",
            "가중치 수정전 target :1 y:0 b:0.0 W:[0. 0.]\n",
            "가중치 수정후 target :1 y:0 b:0.01 W:[-0.01  0.01]\n",
            "가중치 수정전 target :1 y:-1 b:0.01 W:[-0.01  0.01]\n",
            "가중치 수정후 target :1 y:-1 b:0.02 W:[0. 0.]\n",
            "가중치 수정전 target :-1 y:1 b:0.02 W:[0. 0.]\n",
            "가중치 수정후 target :-1 y:1 b:0.01 W:[-0.01 -0.01]\n",
            "iteration ------------- 49\n",
            "가중치 수정전 target :-1 y:1 b:0.01 W:[-0.01 -0.01]\n",
            "가중치 수정후 target :-1 y:1 b:0.0 W:[0. 0.]\n",
            "가중치 수정전 target :1 y:0 b:0.0 W:[0. 0.]\n",
            "가중치 수정후 target :1 y:0 b:0.01 W:[-0.01  0.01]\n",
            "가중치 수정전 target :1 y:-1 b:0.01 W:[-0.01  0.01]\n",
            "가중치 수정후 target :1 y:-1 b:0.02 W:[0. 0.]\n",
            "가중치 수정전 target :-1 y:1 b:0.02 W:[0. 0.]\n",
            "가중치 수정후 target :-1 y:1 b:0.01 W:[-0.01 -0.01]\n",
            "iteration ------------- 50\n",
            "가중치 수정전 target :-1 y:1 b:0.01 W:[-0.01 -0.01]\n",
            "가중치 수정후 target :-1 y:1 b:0.0 W:[0. 0.]\n",
            "가중치 수정전 target :1 y:0 b:0.0 W:[0. 0.]\n",
            "가중치 수정후 target :1 y:0 b:0.01 W:[-0.01  0.01]\n",
            "가중치 수정전 target :1 y:-1 b:0.01 W:[-0.01  0.01]\n",
            "가중치 수정후 target :1 y:-1 b:0.02 W:[0. 0.]\n",
            "가중치 수정전 target :-1 y:1 b:0.02 W:[0. 0.]\n",
            "가중치 수정후 target :-1 y:1 b:0.01 W:[-0.01 -0.01]\n",
            "iteration ------------- 51\n",
            "가중치 수정전 target :-1 y:1 b:0.01 W:[-0.01 -0.01]\n",
            "가중치 수정후 target :-1 y:1 b:0.0 W:[0. 0.]\n",
            "가중치 수정전 target :1 y:0 b:0.0 W:[0. 0.]\n",
            "가중치 수정후 target :1 y:0 b:0.01 W:[-0.01  0.01]\n",
            "가중치 수정전 target :1 y:-1 b:0.01 W:[-0.01  0.01]\n",
            "가중치 수정후 target :1 y:-1 b:0.02 W:[0. 0.]\n",
            "가중치 수정전 target :-1 y:1 b:0.02 W:[0. 0.]\n",
            "가중치 수정후 target :-1 y:1 b:0.01 W:[-0.01 -0.01]\n",
            "iteration ------------- 52\n",
            "가중치 수정전 target :-1 y:1 b:0.01 W:[-0.01 -0.01]\n",
            "가중치 수정후 target :-1 y:1 b:0.0 W:[0. 0.]\n",
            "가중치 수정전 target :1 y:0 b:0.0 W:[0. 0.]\n",
            "가중치 수정후 target :1 y:0 b:0.01 W:[-0.01  0.01]\n",
            "가중치 수정전 target :1 y:-1 b:0.01 W:[-0.01  0.01]\n",
            "가중치 수정후 target :1 y:-1 b:0.02 W:[0. 0.]\n",
            "가중치 수정전 target :-1 y:1 b:0.02 W:[0. 0.]\n",
            "가중치 수정후 target :-1 y:1 b:0.01 W:[-0.01 -0.01]\n",
            "iteration ------------- 53\n",
            "가중치 수정전 target :-1 y:1 b:0.01 W:[-0.01 -0.01]\n",
            "가중치 수정후 target :-1 y:1 b:0.0 W:[0. 0.]\n",
            "가중치 수정전 target :1 y:0 b:0.0 W:[0. 0.]\n",
            "가중치 수정후 target :1 y:0 b:0.01 W:[-0.01  0.01]\n",
            "가중치 수정전 target :1 y:-1 b:0.01 W:[-0.01  0.01]\n",
            "가중치 수정후 target :1 y:-1 b:0.02 W:[0. 0.]\n",
            "가중치 수정전 target :-1 y:1 b:0.02 W:[0. 0.]\n",
            "가중치 수정후 target :-1 y:1 b:0.01 W:[-0.01 -0.01]\n",
            "iteration ------------- 54\n",
            "가중치 수정전 target :-1 y:1 b:0.01 W:[-0.01 -0.01]\n",
            "가중치 수정후 target :-1 y:1 b:0.0 W:[0. 0.]\n",
            "가중치 수정전 target :1 y:0 b:0.0 W:[0. 0.]\n",
            "가중치 수정후 target :1 y:0 b:0.01 W:[-0.01  0.01]\n",
            "가중치 수정전 target :1 y:-1 b:0.01 W:[-0.01  0.01]\n",
            "가중치 수정후 target :1 y:-1 b:0.02 W:[0. 0.]\n",
            "가중치 수정전 target :-1 y:1 b:0.02 W:[0. 0.]\n",
            "가중치 수정후 target :-1 y:1 b:0.01 W:[-0.01 -0.01]\n",
            "iteration ------------- 55\n",
            "가중치 수정전 target :-1 y:1 b:0.01 W:[-0.01 -0.01]\n",
            "가중치 수정후 target :-1 y:1 b:0.0 W:[0. 0.]\n",
            "가중치 수정전 target :1 y:0 b:0.0 W:[0. 0.]\n",
            "가중치 수정후 target :1 y:0 b:0.01 W:[-0.01  0.01]\n",
            "가중치 수정전 target :1 y:-1 b:0.01 W:[-0.01  0.01]\n",
            "가중치 수정후 target :1 y:-1 b:0.02 W:[0. 0.]\n",
            "가중치 수정전 target :-1 y:1 b:0.02 W:[0. 0.]\n",
            "가중치 수정후 target :-1 y:1 b:0.01 W:[-0.01 -0.01]\n",
            "iteration ------------- 56\n",
            "가중치 수정전 target :-1 y:1 b:0.01 W:[-0.01 -0.01]\n",
            "가중치 수정후 target :-1 y:1 b:0.0 W:[0. 0.]\n",
            "가중치 수정전 target :1 y:0 b:0.0 W:[0. 0.]\n",
            "가중치 수정후 target :1 y:0 b:0.01 W:[-0.01  0.01]\n",
            "가중치 수정전 target :1 y:-1 b:0.01 W:[-0.01  0.01]\n",
            "가중치 수정후 target :1 y:-1 b:0.02 W:[0. 0.]\n",
            "가중치 수정전 target :-1 y:1 b:0.02 W:[0. 0.]\n",
            "가중치 수정후 target :-1 y:1 b:0.01 W:[-0.01 -0.01]\n",
            "iteration ------------- 57\n",
            "가중치 수정전 target :-1 y:1 b:0.01 W:[-0.01 -0.01]\n",
            "가중치 수정후 target :-1 y:1 b:0.0 W:[0. 0.]\n",
            "가중치 수정전 target :1 y:0 b:0.0 W:[0. 0.]\n",
            "가중치 수정후 target :1 y:0 b:0.01 W:[-0.01  0.01]\n",
            "가중치 수정전 target :1 y:-1 b:0.01 W:[-0.01  0.01]\n",
            "가중치 수정후 target :1 y:-1 b:0.02 W:[0. 0.]\n",
            "가중치 수정전 target :-1 y:1 b:0.02 W:[0. 0.]\n",
            "가중치 수정후 target :-1 y:1 b:0.01 W:[-0.01 -0.01]\n",
            "iteration ------------- 58\n",
            "가중치 수정전 target :-1 y:1 b:0.01 W:[-0.01 -0.01]\n",
            "가중치 수정후 target :-1 y:1 b:0.0 W:[0. 0.]\n",
            "가중치 수정전 target :1 y:0 b:0.0 W:[0. 0.]\n",
            "가중치 수정후 target :1 y:0 b:0.01 W:[-0.01  0.01]\n",
            "가중치 수정전 target :1 y:-1 b:0.01 W:[-0.01  0.01]\n",
            "가중치 수정후 target :1 y:-1 b:0.02 W:[0. 0.]\n",
            "가중치 수정전 target :-1 y:1 b:0.02 W:[0. 0.]\n",
            "가중치 수정후 target :-1 y:1 b:0.01 W:[-0.01 -0.01]\n",
            "iteration ------------- 59\n",
            "가중치 수정전 target :-1 y:1 b:0.01 W:[-0.01 -0.01]\n",
            "가중치 수정후 target :-1 y:1 b:0.0 W:[0. 0.]\n",
            "가중치 수정전 target :1 y:0 b:0.0 W:[0. 0.]\n",
            "가중치 수정후 target :1 y:0 b:0.01 W:[-0.01  0.01]\n",
            "가중치 수정전 target :1 y:-1 b:0.01 W:[-0.01  0.01]\n",
            "가중치 수정후 target :1 y:-1 b:0.02 W:[0. 0.]\n",
            "가중치 수정전 target :-1 y:1 b:0.02 W:[0. 0.]\n",
            "가중치 수정후 target :-1 y:1 b:0.01 W:[-0.01 -0.01]\n",
            "iteration ------------- 60\n",
            "가중치 수정전 target :-1 y:1 b:0.01 W:[-0.01 -0.01]\n",
            "가중치 수정후 target :-1 y:1 b:0.0 W:[0. 0.]\n",
            "가중치 수정전 target :1 y:0 b:0.0 W:[0. 0.]\n",
            "가중치 수정후 target :1 y:0 b:0.01 W:[-0.01  0.01]\n",
            "가중치 수정전 target :1 y:-1 b:0.01 W:[-0.01  0.01]\n",
            "가중치 수정후 target :1 y:-1 b:0.02 W:[0. 0.]\n",
            "가중치 수정전 target :-1 y:1 b:0.02 W:[0. 0.]\n",
            "가중치 수정후 target :-1 y:1 b:0.01 W:[-0.01 -0.01]\n",
            "iteration ------------- 61\n",
            "가중치 수정전 target :-1 y:1 b:0.01 W:[-0.01 -0.01]\n",
            "가중치 수정후 target :-1 y:1 b:0.0 W:[0. 0.]\n",
            "가중치 수정전 target :1 y:0 b:0.0 W:[0. 0.]\n",
            "가중치 수정후 target :1 y:0 b:0.01 W:[-0.01  0.01]\n",
            "가중치 수정전 target :1 y:-1 b:0.01 W:[-0.01  0.01]\n",
            "가중치 수정후 target :1 y:-1 b:0.02 W:[0. 0.]\n",
            "가중치 수정전 target :-1 y:1 b:0.02 W:[0. 0.]\n",
            "가중치 수정후 target :-1 y:1 b:0.01 W:[-0.01 -0.01]\n",
            "iteration ------------- 62\n",
            "가중치 수정전 target :-1 y:1 b:0.01 W:[-0.01 -0.01]\n",
            "가중치 수정후 target :-1 y:1 b:0.0 W:[0. 0.]\n",
            "가중치 수정전 target :1 y:0 b:0.0 W:[0. 0.]\n",
            "가중치 수정후 target :1 y:0 b:0.01 W:[-0.01  0.01]\n",
            "가중치 수정전 target :1 y:-1 b:0.01 W:[-0.01  0.01]\n",
            "가중치 수정후 target :1 y:-1 b:0.02 W:[0. 0.]\n",
            "가중치 수정전 target :-1 y:1 b:0.02 W:[0. 0.]\n",
            "가중치 수정후 target :-1 y:1 b:0.01 W:[-0.01 -0.01]\n",
            "iteration ------------- 63\n",
            "가중치 수정전 target :-1 y:1 b:0.01 W:[-0.01 -0.01]\n",
            "가중치 수정후 target :-1 y:1 b:0.0 W:[0. 0.]\n",
            "가중치 수정전 target :1 y:0 b:0.0 W:[0. 0.]\n",
            "가중치 수정후 target :1 y:0 b:0.01 W:[-0.01  0.01]\n",
            "가중치 수정전 target :1 y:-1 b:0.01 W:[-0.01  0.01]\n",
            "가중치 수정후 target :1 y:-1 b:0.02 W:[0. 0.]\n",
            "가중치 수정전 target :-1 y:1 b:0.02 W:[0. 0.]\n",
            "가중치 수정후 target :-1 y:1 b:0.01 W:[-0.01 -0.01]\n",
            "iteration ------------- 64\n",
            "가중치 수정전 target :-1 y:1 b:0.01 W:[-0.01 -0.01]\n",
            "가중치 수정후 target :-1 y:1 b:0.0 W:[0. 0.]\n",
            "가중치 수정전 target :1 y:0 b:0.0 W:[0. 0.]\n",
            "가중치 수정후 target :1 y:0 b:0.01 W:[-0.01  0.01]\n",
            "가중치 수정전 target :1 y:-1 b:0.01 W:[-0.01  0.01]\n",
            "가중치 수정후 target :1 y:-1 b:0.02 W:[0. 0.]\n",
            "가중치 수정전 target :-1 y:1 b:0.02 W:[0. 0.]\n",
            "가중치 수정후 target :-1 y:1 b:0.01 W:[-0.01 -0.01]\n",
            "iteration ------------- 65\n",
            "가중치 수정전 target :-1 y:1 b:0.01 W:[-0.01 -0.01]\n",
            "가중치 수정후 target :-1 y:1 b:0.0 W:[0. 0.]\n",
            "가중치 수정전 target :1 y:0 b:0.0 W:[0. 0.]\n",
            "가중치 수정후 target :1 y:0 b:0.01 W:[-0.01  0.01]\n",
            "가중치 수정전 target :1 y:-1 b:0.01 W:[-0.01  0.01]\n",
            "가중치 수정후 target :1 y:-1 b:0.02 W:[0. 0.]\n",
            "가중치 수정전 target :-1 y:1 b:0.02 W:[0. 0.]\n",
            "가중치 수정후 target :-1 y:1 b:0.01 W:[-0.01 -0.01]\n",
            "iteration ------------- 66\n",
            "가중치 수정전 target :-1 y:1 b:0.01 W:[-0.01 -0.01]\n",
            "가중치 수정후 target :-1 y:1 b:0.0 W:[0. 0.]\n",
            "가중치 수정전 target :1 y:0 b:0.0 W:[0. 0.]\n",
            "가중치 수정후 target :1 y:0 b:0.01 W:[-0.01  0.01]\n",
            "가중치 수정전 target :1 y:-1 b:0.01 W:[-0.01  0.01]\n",
            "가중치 수정후 target :1 y:-1 b:0.02 W:[0. 0.]\n",
            "가중치 수정전 target :-1 y:1 b:0.02 W:[0. 0.]\n",
            "가중치 수정후 target :-1 y:1 b:0.01 W:[-0.01 -0.01]\n",
            "iteration ------------- 67\n",
            "가중치 수정전 target :-1 y:1 b:0.01 W:[-0.01 -0.01]\n",
            "가중치 수정후 target :-1 y:1 b:0.0 W:[0. 0.]\n",
            "가중치 수정전 target :1 y:0 b:0.0 W:[0. 0.]\n",
            "가중치 수정후 target :1 y:0 b:0.01 W:[-0.01  0.01]\n",
            "가중치 수정전 target :1 y:-1 b:0.01 W:[-0.01  0.01]\n",
            "가중치 수정후 target :1 y:-1 b:0.02 W:[0. 0.]\n",
            "가중치 수정전 target :-1 y:1 b:0.02 W:[0. 0.]\n",
            "가중치 수정후 target :-1 y:1 b:0.01 W:[-0.01 -0.01]\n",
            "iteration ------------- 68\n",
            "가중치 수정전 target :-1 y:1 b:0.01 W:[-0.01 -0.01]\n",
            "가중치 수정후 target :-1 y:1 b:0.0 W:[0. 0.]\n",
            "가중치 수정전 target :1 y:0 b:0.0 W:[0. 0.]\n",
            "가중치 수정후 target :1 y:0 b:0.01 W:[-0.01  0.01]\n",
            "가중치 수정전 target :1 y:-1 b:0.01 W:[-0.01  0.01]\n",
            "가중치 수정후 target :1 y:-1 b:0.02 W:[0. 0.]\n",
            "가중치 수정전 target :-1 y:1 b:0.02 W:[0. 0.]\n",
            "가중치 수정후 target :-1 y:1 b:0.01 W:[-0.01 -0.01]\n",
            "iteration ------------- 69\n",
            "가중치 수정전 target :-1 y:1 b:0.01 W:[-0.01 -0.01]\n",
            "가중치 수정후 target :-1 y:1 b:0.0 W:[0. 0.]\n",
            "가중치 수정전 target :1 y:0 b:0.0 W:[0. 0.]\n",
            "가중치 수정후 target :1 y:0 b:0.01 W:[-0.01  0.01]\n",
            "가중치 수정전 target :1 y:-1 b:0.01 W:[-0.01  0.01]\n",
            "가중치 수정후 target :1 y:-1 b:0.02 W:[0. 0.]\n",
            "가중치 수정전 target :-1 y:1 b:0.02 W:[0. 0.]\n",
            "가중치 수정후 target :-1 y:1 b:0.01 W:[-0.01 -0.01]\n",
            "iteration ------------- 70\n",
            "가중치 수정전 target :-1 y:1 b:0.01 W:[-0.01 -0.01]\n",
            "가중치 수정후 target :-1 y:1 b:0.0 W:[0. 0.]\n",
            "가중치 수정전 target :1 y:0 b:0.0 W:[0. 0.]\n",
            "가중치 수정후 target :1 y:0 b:0.01 W:[-0.01  0.01]\n",
            "가중치 수정전 target :1 y:-1 b:0.01 W:[-0.01  0.01]\n",
            "가중치 수정후 target :1 y:-1 b:0.02 W:[0. 0.]\n",
            "가중치 수정전 target :-1 y:1 b:0.02 W:[0. 0.]\n",
            "가중치 수정후 target :-1 y:1 b:0.01 W:[-0.01 -0.01]\n",
            "iteration ------------- 71\n",
            "가중치 수정전 target :-1 y:1 b:0.01 W:[-0.01 -0.01]\n",
            "가중치 수정후 target :-1 y:1 b:0.0 W:[0. 0.]\n",
            "가중치 수정전 target :1 y:0 b:0.0 W:[0. 0.]\n",
            "가중치 수정후 target :1 y:0 b:0.01 W:[-0.01  0.01]\n",
            "가중치 수정전 target :1 y:-1 b:0.01 W:[-0.01  0.01]\n",
            "가중치 수정후 target :1 y:-1 b:0.02 W:[0. 0.]\n",
            "가중치 수정전 target :-1 y:1 b:0.02 W:[0. 0.]\n",
            "가중치 수정후 target :-1 y:1 b:0.01 W:[-0.01 -0.01]\n",
            "iteration ------------- 72\n",
            "가중치 수정전 target :-1 y:1 b:0.01 W:[-0.01 -0.01]\n",
            "가중치 수정후 target :-1 y:1 b:0.0 W:[0. 0.]\n",
            "가중치 수정전 target :1 y:0 b:0.0 W:[0. 0.]\n",
            "가중치 수정후 target :1 y:0 b:0.01 W:[-0.01  0.01]\n",
            "가중치 수정전 target :1 y:-1 b:0.01 W:[-0.01  0.01]\n",
            "가중치 수정후 target :1 y:-1 b:0.02 W:[0. 0.]\n",
            "가중치 수정전 target :-1 y:1 b:0.02 W:[0. 0.]\n",
            "가중치 수정후 target :-1 y:1 b:0.01 W:[-0.01 -0.01]\n",
            "iteration ------------- 73\n",
            "가중치 수정전 target :-1 y:1 b:0.01 W:[-0.01 -0.01]\n",
            "가중치 수정후 target :-1 y:1 b:0.0 W:[0. 0.]\n",
            "가중치 수정전 target :1 y:0 b:0.0 W:[0. 0.]\n",
            "가중치 수정후 target :1 y:0 b:0.01 W:[-0.01  0.01]\n",
            "가중치 수정전 target :1 y:-1 b:0.01 W:[-0.01  0.01]\n",
            "가중치 수정후 target :1 y:-1 b:0.02 W:[0. 0.]\n",
            "가중치 수정전 target :-1 y:1 b:0.02 W:[0. 0.]\n",
            "가중치 수정후 target :-1 y:1 b:0.01 W:[-0.01 -0.01]\n",
            "iteration ------------- 74\n",
            "가중치 수정전 target :-1 y:1 b:0.01 W:[-0.01 -0.01]\n",
            "가중치 수정후 target :-1 y:1 b:0.0 W:[0. 0.]\n",
            "가중치 수정전 target :1 y:0 b:0.0 W:[0. 0.]\n",
            "가중치 수정후 target :1 y:0 b:0.01 W:[-0.01  0.01]\n",
            "가중치 수정전 target :1 y:-1 b:0.01 W:[-0.01  0.01]\n",
            "가중치 수정후 target :1 y:-1 b:0.02 W:[0. 0.]\n",
            "가중치 수정전 target :-1 y:1 b:0.02 W:[0. 0.]\n",
            "가중치 수정후 target :-1 y:1 b:0.01 W:[-0.01 -0.01]\n",
            "iteration ------------- 75\n",
            "가중치 수정전 target :-1 y:1 b:0.01 W:[-0.01 -0.01]\n",
            "가중치 수정후 target :-1 y:1 b:0.0 W:[0. 0.]\n",
            "가중치 수정전 target :1 y:0 b:0.0 W:[0. 0.]\n",
            "가중치 수정후 target :1 y:0 b:0.01 W:[-0.01  0.01]\n",
            "가중치 수정전 target :1 y:-1 b:0.01 W:[-0.01  0.01]\n",
            "가중치 수정후 target :1 y:-1 b:0.02 W:[0. 0.]\n",
            "가중치 수정전 target :-1 y:1 b:0.02 W:[0. 0.]\n",
            "가중치 수정후 target :-1 y:1 b:0.01 W:[-0.01 -0.01]\n",
            "iteration ------------- 76\n",
            "가중치 수정전 target :-1 y:1 b:0.01 W:[-0.01 -0.01]\n",
            "가중치 수정후 target :-1 y:1 b:0.0 W:[0. 0.]\n",
            "가중치 수정전 target :1 y:0 b:0.0 W:[0. 0.]\n",
            "가중치 수정후 target :1 y:0 b:0.01 W:[-0.01  0.01]\n",
            "가중치 수정전 target :1 y:-1 b:0.01 W:[-0.01  0.01]\n",
            "가중치 수정후 target :1 y:-1 b:0.02 W:[0. 0.]\n",
            "가중치 수정전 target :-1 y:1 b:0.02 W:[0. 0.]\n",
            "가중치 수정후 target :-1 y:1 b:0.01 W:[-0.01 -0.01]\n",
            "iteration ------------- 77\n",
            "가중치 수정전 target :-1 y:1 b:0.01 W:[-0.01 -0.01]\n",
            "가중치 수정후 target :-1 y:1 b:0.0 W:[0. 0.]\n",
            "가중치 수정전 target :1 y:0 b:0.0 W:[0. 0.]\n",
            "가중치 수정후 target :1 y:0 b:0.01 W:[-0.01  0.01]\n",
            "가중치 수정전 target :1 y:-1 b:0.01 W:[-0.01  0.01]\n",
            "가중치 수정후 target :1 y:-1 b:0.02 W:[0. 0.]\n",
            "가중치 수정전 target :-1 y:1 b:0.02 W:[0. 0.]\n",
            "가중치 수정후 target :-1 y:1 b:0.01 W:[-0.01 -0.01]\n",
            "iteration ------------- 78\n",
            "가중치 수정전 target :-1 y:1 b:0.01 W:[-0.01 -0.01]\n",
            "가중치 수정후 target :-1 y:1 b:0.0 W:[0. 0.]\n",
            "가중치 수정전 target :1 y:0 b:0.0 W:[0. 0.]\n",
            "가중치 수정후 target :1 y:0 b:0.01 W:[-0.01  0.01]\n",
            "가중치 수정전 target :1 y:-1 b:0.01 W:[-0.01  0.01]\n",
            "가중치 수정후 target :1 y:-1 b:0.02 W:[0. 0.]\n",
            "가중치 수정전 target :-1 y:1 b:0.02 W:[0. 0.]\n",
            "가중치 수정후 target :-1 y:1 b:0.01 W:[-0.01 -0.01]\n",
            "iteration ------------- 79\n",
            "가중치 수정전 target :-1 y:1 b:0.01 W:[-0.01 -0.01]\n",
            "가중치 수정후 target :-1 y:1 b:0.0 W:[0. 0.]\n",
            "가중치 수정전 target :1 y:0 b:0.0 W:[0. 0.]\n",
            "가중치 수정후 target :1 y:0 b:0.01 W:[-0.01  0.01]\n",
            "가중치 수정전 target :1 y:-1 b:0.01 W:[-0.01  0.01]\n",
            "가중치 수정후 target :1 y:-1 b:0.02 W:[0. 0.]\n",
            "가중치 수정전 target :-1 y:1 b:0.02 W:[0. 0.]\n",
            "가중치 수정후 target :-1 y:1 b:0.01 W:[-0.01 -0.01]\n",
            "iteration ------------- 80\n",
            "가중치 수정전 target :-1 y:1 b:0.01 W:[-0.01 -0.01]\n",
            "가중치 수정후 target :-1 y:1 b:0.0 W:[0. 0.]\n",
            "가중치 수정전 target :1 y:0 b:0.0 W:[0. 0.]\n",
            "가중치 수정후 target :1 y:0 b:0.01 W:[-0.01  0.01]\n",
            "가중치 수정전 target :1 y:-1 b:0.01 W:[-0.01  0.01]\n",
            "가중치 수정후 target :1 y:-1 b:0.02 W:[0. 0.]\n",
            "가중치 수정전 target :-1 y:1 b:0.02 W:[0. 0.]\n",
            "가중치 수정후 target :-1 y:1 b:0.01 W:[-0.01 -0.01]\n",
            "iteration ------------- 81\n",
            "가중치 수정전 target :-1 y:1 b:0.01 W:[-0.01 -0.01]\n",
            "가중치 수정후 target :-1 y:1 b:0.0 W:[0. 0.]\n",
            "가중치 수정전 target :1 y:0 b:0.0 W:[0. 0.]\n",
            "가중치 수정후 target :1 y:0 b:0.01 W:[-0.01  0.01]\n",
            "가중치 수정전 target :1 y:-1 b:0.01 W:[-0.01  0.01]\n",
            "가중치 수정후 target :1 y:-1 b:0.02 W:[0. 0.]\n",
            "가중치 수정전 target :-1 y:1 b:0.02 W:[0. 0.]\n",
            "가중치 수정후 target :-1 y:1 b:0.01 W:[-0.01 -0.01]\n",
            "iteration ------------- 82\n",
            "가중치 수정전 target :-1 y:1 b:0.01 W:[-0.01 -0.01]\n",
            "가중치 수정후 target :-1 y:1 b:0.0 W:[0. 0.]\n",
            "가중치 수정전 target :1 y:0 b:0.0 W:[0. 0.]\n",
            "가중치 수정후 target :1 y:0 b:0.01 W:[-0.01  0.01]\n",
            "가중치 수정전 target :1 y:-1 b:0.01 W:[-0.01  0.01]\n",
            "가중치 수정후 target :1 y:-1 b:0.02 W:[0. 0.]\n",
            "가중치 수정전 target :-1 y:1 b:0.02 W:[0. 0.]\n",
            "가중치 수정후 target :-1 y:1 b:0.01 W:[-0.01 -0.01]\n",
            "iteration ------------- 83\n",
            "가중치 수정전 target :-1 y:1 b:0.01 W:[-0.01 -0.01]\n",
            "가중치 수정후 target :-1 y:1 b:0.0 W:[0. 0.]\n",
            "가중치 수정전 target :1 y:0 b:0.0 W:[0. 0.]\n",
            "가중치 수정후 target :1 y:0 b:0.01 W:[-0.01  0.01]\n",
            "가중치 수정전 target :1 y:-1 b:0.01 W:[-0.01  0.01]\n",
            "가중치 수정후 target :1 y:-1 b:0.02 W:[0. 0.]\n",
            "가중치 수정전 target :-1 y:1 b:0.02 W:[0. 0.]\n",
            "가중치 수정후 target :-1 y:1 b:0.01 W:[-0.01 -0.01]\n",
            "iteration ------------- 84\n",
            "가중치 수정전 target :-1 y:1 b:0.01 W:[-0.01 -0.01]\n",
            "가중치 수정후 target :-1 y:1 b:0.0 W:[0. 0.]\n",
            "가중치 수정전 target :1 y:0 b:0.0 W:[0. 0.]\n",
            "가중치 수정후 target :1 y:0 b:0.01 W:[-0.01  0.01]\n",
            "가중치 수정전 target :1 y:-1 b:0.01 W:[-0.01  0.01]\n",
            "가중치 수정후 target :1 y:-1 b:0.02 W:[0. 0.]\n",
            "가중치 수정전 target :-1 y:1 b:0.02 W:[0. 0.]\n",
            "가중치 수정후 target :-1 y:1 b:0.01 W:[-0.01 -0.01]\n",
            "iteration ------------- 85\n",
            "가중치 수정전 target :-1 y:1 b:0.01 W:[-0.01 -0.01]\n",
            "가중치 수정후 target :-1 y:1 b:0.0 W:[0. 0.]\n",
            "가중치 수정전 target :1 y:0 b:0.0 W:[0. 0.]\n",
            "가중치 수정후 target :1 y:0 b:0.01 W:[-0.01  0.01]\n",
            "가중치 수정전 target :1 y:-1 b:0.01 W:[-0.01  0.01]\n",
            "가중치 수정후 target :1 y:-1 b:0.02 W:[0. 0.]\n",
            "가중치 수정전 target :-1 y:1 b:0.02 W:[0. 0.]\n",
            "가중치 수정후 target :-1 y:1 b:0.01 W:[-0.01 -0.01]\n",
            "iteration ------------- 86\n",
            "가중치 수정전 target :-1 y:1 b:0.01 W:[-0.01 -0.01]\n",
            "가중치 수정후 target :-1 y:1 b:0.0 W:[0. 0.]\n",
            "가중치 수정전 target :1 y:0 b:0.0 W:[0. 0.]\n",
            "가중치 수정후 target :1 y:0 b:0.01 W:[-0.01  0.01]\n",
            "가중치 수정전 target :1 y:-1 b:0.01 W:[-0.01  0.01]\n",
            "가중치 수정후 target :1 y:-1 b:0.02 W:[0. 0.]\n",
            "가중치 수정전 target :-1 y:1 b:0.02 W:[0. 0.]\n",
            "가중치 수정후 target :-1 y:1 b:0.01 W:[-0.01 -0.01]\n",
            "iteration ------------- 87\n",
            "가중치 수정전 target :-1 y:1 b:0.01 W:[-0.01 -0.01]\n",
            "가중치 수정후 target :-1 y:1 b:0.0 W:[0. 0.]\n",
            "가중치 수정전 target :1 y:0 b:0.0 W:[0. 0.]\n",
            "가중치 수정후 target :1 y:0 b:0.01 W:[-0.01  0.01]\n",
            "가중치 수정전 target :1 y:-1 b:0.01 W:[-0.01  0.01]\n",
            "가중치 수정후 target :1 y:-1 b:0.02 W:[0. 0.]\n",
            "가중치 수정전 target :-1 y:1 b:0.02 W:[0. 0.]\n",
            "가중치 수정후 target :-1 y:1 b:0.01 W:[-0.01 -0.01]\n",
            "iteration ------------- 88\n",
            "가중치 수정전 target :-1 y:1 b:0.01 W:[-0.01 -0.01]\n",
            "가중치 수정후 target :-1 y:1 b:0.0 W:[0. 0.]\n",
            "가중치 수정전 target :1 y:0 b:0.0 W:[0. 0.]\n",
            "가중치 수정후 target :1 y:0 b:0.01 W:[-0.01  0.01]\n",
            "가중치 수정전 target :1 y:-1 b:0.01 W:[-0.01  0.01]\n",
            "가중치 수정후 target :1 y:-1 b:0.02 W:[0. 0.]\n",
            "가중치 수정전 target :-1 y:1 b:0.02 W:[0. 0.]\n",
            "가중치 수정후 target :-1 y:1 b:0.01 W:[-0.01 -0.01]\n",
            "iteration ------------- 89\n",
            "가중치 수정전 target :-1 y:1 b:0.01 W:[-0.01 -0.01]\n",
            "가중치 수정후 target :-1 y:1 b:0.0 W:[0. 0.]\n",
            "가중치 수정전 target :1 y:0 b:0.0 W:[0. 0.]\n",
            "가중치 수정후 target :1 y:0 b:0.01 W:[-0.01  0.01]\n",
            "가중치 수정전 target :1 y:-1 b:0.01 W:[-0.01  0.01]\n",
            "가중치 수정후 target :1 y:-1 b:0.02 W:[0. 0.]\n",
            "가중치 수정전 target :-1 y:1 b:0.02 W:[0. 0.]\n",
            "가중치 수정후 target :-1 y:1 b:0.01 W:[-0.01 -0.01]\n",
            "iteration ------------- 90\n",
            "가중치 수정전 target :-1 y:1 b:0.01 W:[-0.01 -0.01]\n",
            "가중치 수정후 target :-1 y:1 b:0.0 W:[0. 0.]\n",
            "가중치 수정전 target :1 y:0 b:0.0 W:[0. 0.]\n",
            "가중치 수정후 target :1 y:0 b:0.01 W:[-0.01  0.01]\n",
            "가중치 수정전 target :1 y:-1 b:0.01 W:[-0.01  0.01]\n",
            "가중치 수정후 target :1 y:-1 b:0.02 W:[0. 0.]\n",
            "가중치 수정전 target :-1 y:1 b:0.02 W:[0. 0.]\n",
            "가중치 수정후 target :-1 y:1 b:0.01 W:[-0.01 -0.01]\n",
            "iteration ------------- 91\n",
            "가중치 수정전 target :-1 y:1 b:0.01 W:[-0.01 -0.01]\n",
            "가중치 수정후 target :-1 y:1 b:0.0 W:[0. 0.]\n",
            "가중치 수정전 target :1 y:0 b:0.0 W:[0. 0.]\n",
            "가중치 수정후 target :1 y:0 b:0.01 W:[-0.01  0.01]\n",
            "가중치 수정전 target :1 y:-1 b:0.01 W:[-0.01  0.01]\n",
            "가중치 수정후 target :1 y:-1 b:0.02 W:[0. 0.]\n",
            "가중치 수정전 target :-1 y:1 b:0.02 W:[0. 0.]\n",
            "가중치 수정후 target :-1 y:1 b:0.01 W:[-0.01 -0.01]\n",
            "iteration ------------- 92\n",
            "가중치 수정전 target :-1 y:1 b:0.01 W:[-0.01 -0.01]\n",
            "가중치 수정후 target :-1 y:1 b:0.0 W:[0. 0.]\n",
            "가중치 수정전 target :1 y:0 b:0.0 W:[0. 0.]\n",
            "가중치 수정후 target :1 y:0 b:0.01 W:[-0.01  0.01]\n",
            "가중치 수정전 target :1 y:-1 b:0.01 W:[-0.01  0.01]\n",
            "가중치 수정후 target :1 y:-1 b:0.02 W:[0. 0.]\n",
            "가중치 수정전 target :-1 y:1 b:0.02 W:[0. 0.]\n",
            "가중치 수정후 target :-1 y:1 b:0.01 W:[-0.01 -0.01]\n",
            "iteration ------------- 93\n",
            "가중치 수정전 target :-1 y:1 b:0.01 W:[-0.01 -0.01]\n",
            "가중치 수정후 target :-1 y:1 b:0.0 W:[0. 0.]\n",
            "가중치 수정전 target :1 y:0 b:0.0 W:[0. 0.]\n",
            "가중치 수정후 target :1 y:0 b:0.01 W:[-0.01  0.01]\n",
            "가중치 수정전 target :1 y:-1 b:0.01 W:[-0.01  0.01]\n",
            "가중치 수정후 target :1 y:-1 b:0.02 W:[0. 0.]\n",
            "가중치 수정전 target :-1 y:1 b:0.02 W:[0. 0.]\n",
            "가중치 수정후 target :-1 y:1 b:0.01 W:[-0.01 -0.01]\n",
            "iteration ------------- 94\n",
            "가중치 수정전 target :-1 y:1 b:0.01 W:[-0.01 -0.01]\n",
            "가중치 수정후 target :-1 y:1 b:0.0 W:[0. 0.]\n",
            "가중치 수정전 target :1 y:0 b:0.0 W:[0. 0.]\n",
            "가중치 수정후 target :1 y:0 b:0.01 W:[-0.01  0.01]\n",
            "가중치 수정전 target :1 y:-1 b:0.01 W:[-0.01  0.01]\n",
            "가중치 수정후 target :1 y:-1 b:0.02 W:[0. 0.]\n",
            "가중치 수정전 target :-1 y:1 b:0.02 W:[0. 0.]\n",
            "가중치 수정후 target :-1 y:1 b:0.01 W:[-0.01 -0.01]\n",
            "iteration ------------- 95\n",
            "가중치 수정전 target :-1 y:1 b:0.01 W:[-0.01 -0.01]\n",
            "가중치 수정후 target :-1 y:1 b:0.0 W:[0. 0.]\n",
            "가중치 수정전 target :1 y:0 b:0.0 W:[0. 0.]\n",
            "가중치 수정후 target :1 y:0 b:0.01 W:[-0.01  0.01]\n",
            "가중치 수정전 target :1 y:-1 b:0.01 W:[-0.01  0.01]\n",
            "가중치 수정후 target :1 y:-1 b:0.02 W:[0. 0.]\n",
            "가중치 수정전 target :-1 y:1 b:0.02 W:[0. 0.]\n",
            "가중치 수정후 target :-1 y:1 b:0.01 W:[-0.01 -0.01]\n",
            "iteration ------------- 96\n",
            "가중치 수정전 target :-1 y:1 b:0.01 W:[-0.01 -0.01]\n",
            "가중치 수정후 target :-1 y:1 b:0.0 W:[0. 0.]\n",
            "가중치 수정전 target :1 y:0 b:0.0 W:[0. 0.]\n",
            "가중치 수정후 target :1 y:0 b:0.01 W:[-0.01  0.01]\n",
            "가중치 수정전 target :1 y:-1 b:0.01 W:[-0.01  0.01]\n",
            "가중치 수정후 target :1 y:-1 b:0.02 W:[0. 0.]\n",
            "가중치 수정전 target :-1 y:1 b:0.02 W:[0. 0.]\n",
            "가중치 수정후 target :-1 y:1 b:0.01 W:[-0.01 -0.01]\n",
            "iteration ------------- 97\n",
            "가중치 수정전 target :-1 y:1 b:0.01 W:[-0.01 -0.01]\n",
            "가중치 수정후 target :-1 y:1 b:0.0 W:[0. 0.]\n",
            "가중치 수정전 target :1 y:0 b:0.0 W:[0. 0.]\n",
            "가중치 수정후 target :1 y:0 b:0.01 W:[-0.01  0.01]\n",
            "가중치 수정전 target :1 y:-1 b:0.01 W:[-0.01  0.01]\n",
            "가중치 수정후 target :1 y:-1 b:0.02 W:[0. 0.]\n",
            "가중치 수정전 target :-1 y:1 b:0.02 W:[0. 0.]\n",
            "가중치 수정후 target :-1 y:1 b:0.01 W:[-0.01 -0.01]\n",
            "iteration ------------- 98\n",
            "가중치 수정전 target :-1 y:1 b:0.01 W:[-0.01 -0.01]\n",
            "가중치 수정후 target :-1 y:1 b:0.0 W:[0. 0.]\n",
            "가중치 수정전 target :1 y:0 b:0.0 W:[0. 0.]\n",
            "가중치 수정후 target :1 y:0 b:0.01 W:[-0.01  0.01]\n",
            "가중치 수정전 target :1 y:-1 b:0.01 W:[-0.01  0.01]\n",
            "가중치 수정후 target :1 y:-1 b:0.02 W:[0. 0.]\n",
            "가중치 수정전 target :-1 y:1 b:0.02 W:[0. 0.]\n",
            "가중치 수정후 target :-1 y:1 b:0.01 W:[-0.01 -0.01]\n",
            "iteration ------------- 99\n"
          ]
        }
      ]
    },
    {
      "cell_type": "code",
      "source": [
        "import numpy as np\n",
        "\n",
        "W = np.array([0, 0, 0, 0])\n",
        "learning_rate = 0.01"
      ],
      "metadata": {
        "id": "XZJVmR7f9Tl9"
      },
      "execution_count": null,
      "outputs": []
    },
    {
      "cell_type": "code",
      "source": [
        "def activation(s):\n",
        "    if s > 0: return 1\n",
        "    elif s < 0: return -1\n",
        "    return 0"
      ],
      "metadata": {
        "id": "kXGqI4pV9qpb"
      },
      "execution_count": null,
      "outputs": []
    },
    {
      "cell_type": "code",
      "source": [
        "def out(polyX) :\n",
        "    return activation (W.dot(polyX))"
      ],
      "metadata": {
        "id": "aVnleXo997OH"
      },
      "execution_count": null,
      "outputs": []
    },
    {
      "cell_type": "code",
      "source": [
        "def train(x0, x1, target):\n",
        "    global W\n",
        "    polyX = np.array([x0, x1, x0*x1, 1])\n",
        "    y = out(polyX)\n",
        "\n",
        "    ### 예측이 맞으면 아무것도 하지 않음-------------------------------------\n",
        "    if target == y: return 0               # 가중치가 변경되지 않았음을 반환\n",
        "    ### 예측이 틀리면 학습 실시---------------------------------------------\n",
        "    print('가중치 수정전 target :{} y:{} W:{}'.format(target, y, W))\n",
        "    W = W + learning_rate * polyX * target # 입력x목표값에 비례하여 변경\n",
        "    print('가중치 수정후 target :{} y:{} W:{}'.format(target, y, W))\n",
        "    return 1                               # 가중치가 변경되었음을 반환\n"
      ],
      "metadata": {
        "id": "Y8sgrxEw-I1C"
      },
      "execution_count": null,
      "outputs": []
    },
    {
      "cell_type": "code",
      "source": [
        "def predict(inputs):\n",
        "    outputs = []\n",
        "    for x in inputs:\n",
        "        polyX = np.array([x[0], x[1], x[0]*x[1], 1])\n",
        "        outputs.append (out(polyX))\n",
        "    return outputs"
      ],
      "metadata": {
        "id": "owzbFUye-LpJ"
      },
      "execution_count": null,
      "outputs": []
    },
    {
      "cell_type": "code",
      "source": [
        "\n",
        "adjusted = 0\n",
        "for i in range(100):\n",
        "    adjusted += train(-1,-1, -1)    # 훈련 데이터 1\n",
        "    adjusted += train(-1, 1,  1)    # 훈련 데이터 2\n",
        "    adjusted += train( 1,-1,  1)    # 훈련 데이터 3\n",
        "    adjusted += train( 1, 1, -1)    # 훈련 데이터 4\n",
        "    print(\"iteration -------------\", i)\n",
        "    if not adjusted: break  # 모든 훈련에 대해 가중치 변화 없으면 학습종료\n",
        "    adjusted = 0\n",
        "\n",
        "X = [[-1, -1], [-1, 1], [1, -1], [1,1]]\n",
        "yhat = predict(X)\n",
        "print('x0 x1  y')\n",
        "for i in range(len(X)):\n",
        "    print('{0:2d} {1:2d} {2:2d}'.format(X[i][0], X[i][1], yhat[i]))"
      ],
      "metadata": {
        "colab": {
          "base_uri": "https://localhost:8080/"
        },
        "id": "J8qgLbyv_BsR",
        "outputId": "9e0f22f6-2e59-425a-9183-2ea06c42dbd0"
      },
      "execution_count": null,
      "outputs": [
        {
          "output_type": "stream",
          "name": "stdout",
          "text": [
            "가중치 수정전 target :-1 y:0 W:[0 0 0 0]\n",
            "가중치 수정후 target :-1 y:0 W:[ 0.01  0.01 -0.01 -0.01]\n",
            "가중치 수정전 target :1 y:0 W:[ 0.01  0.01 -0.01 -0.01]\n",
            "가중치 수정후 target :1 y:0 W:[ 0.    0.02 -0.02  0.  ]\n",
            "가중치 수정전 target :1 y:0 W:[ 0.    0.02 -0.02  0.  ]\n",
            "가중치 수정후 target :1 y:0 W:[ 0.01  0.01 -0.03  0.01]\n",
            "가중치 수정전 target :-1 y:1 W:[ 0.01  0.01 -0.03  0.01]\n",
            "가중치 수정후 target :-1 y:1 W:[ 0.    0.   -0.04  0.  ]\n",
            "iteration ------------- 0\n",
            "iteration ------------- 1\n",
            "x0 x1  y\n",
            "-1 -1 -1\n",
            "-1  1  1\n",
            " 1 -1  1\n",
            " 1  1 -1\n"
          ]
        }
      ]
    },
    {
      "cell_type": "code",
      "source": [
        "import numpy as np\n",
        "import matplotlib.pyplot as plt"
      ],
      "metadata": {
        "id": "Y2e6fKMo_Ep_"
      },
      "execution_count": null,
      "outputs": []
    },
    {
      "cell_type": "code",
      "source": [
        "U = np.random.rand(2,3)   # 연결강도\n",
        "W = np.random.rand(3,2)   # 연결강도\n",
        "learning_rate = 1.0       # 학습률"
      ],
      "metadata": {
        "id": "PvsFlFALK_gn"
      },
      "execution_count": null,
      "outputs": []
    },
    {
      "cell_type": "code",
      "source": [
        "def sigmoid(v):\n",
        "    return 1 / (1+np.exp(-v))\n",
        "\n",
        "def derivative_sigmoid(v):\n",
        "    s = sigmoid(v)\n",
        "    return s*(1-s)\n"
      ],
      "metadata": {
        "id": "sEtBDcSHLECM"
      },
      "execution_count": null,
      "outputs": []
    },
    {
      "cell_type": "code",
      "source": [
        "input = np.zeros(2)\n",
        "\n",
        "# 순전파시 계산될 값들\n",
        "h_sum, h_out, h_deriv = np.zeros(3), np.zeros(3), np.zeros(3)\n",
        "# 역전파시 계산될 값들\n",
        "h_error, h_delta = np.zeros(3), np.zeros(3)\n",
        "\n",
        "# 순전파시 계산될 값들\n",
        "y_sum, y_out, y_deriv = np.zeros(2), np.zeros(2), np.zeros(2)\n",
        "# 역전파시 계산될 값들\n",
        "y_error, y_delta = np.zeros(2), np.zeros(2)"
      ],
      "metadata": {
        "id": "IvmzmaspLG9x"
      },
      "execution_count": null,
      "outputs": []
    },
    {
      "cell_type": "code",
      "source": [
        "def forward_xh(x):\n",
        "    global input, h_sum, h_out, h_deriv\n",
        "    input = x\n",
        "    h_sum = U.T.dot(input)                 # 은닉층에서 합산된 값\n",
        "    h_out = sigmoid(h_sum)                 # 은닉층의 활성화 값\n",
        "    h_deriv = derivative_sigmoid(h_sum)    # 은닉층 활성화 미분치\n"
      ],
      "metadata": {
        "id": "fG-fChY-LJ6n"
      },
      "execution_count": null,
      "outputs": []
    },
    {
      "cell_type": "code",
      "source": [
        "def forward_hy():\n",
        "    global y_sum, y_out, y_deriv\n",
        "    y_sum = W.T.dot(h_out)                  # 출력층에서 합산된 값\n",
        "    y_out = sigmoid(y_sum)                  # 출력층의 활성화 값\n",
        "    y_deriv = derivative_sigmoid(y_sum)     # 출력층의 활성화 미분치"
      ],
      "metadata": {
        "id": "JdyFri9oLMpc"
      },
      "execution_count": null,
      "outputs": []
    },
    {
      "cell_type": "code",
      "source": [
        "def compute_error(target):\n",
        "    return y_out - target                   # 오차의 계산"
      ],
      "metadata": {
        "id": "m4J_3pmRLPye"
      },
      "execution_count": null,
      "outputs": []
    },
    {
      "cell_type": "code",
      "source": [
        "def backward_y(error):\n",
        "    global y_error, y_delta, W\n",
        "    y_error = error                                    # 출력층 오차\n",
        "    y_delta = y_deriv * y_error                        # 출력층에서 보내는 델타\n",
        "    ## 연결강도 W 수정\n",
        "    dW = - learning_rate * np.outer(h_out, y_delta)    # 연결강도 갱신: 은닉층 출력과 출력층 델타의 외적\n",
        "    W = W + dW"
      ],
      "metadata": {
        "id": "YO9TJSHHLTXI"
      },
      "execution_count": null,
      "outputs": []
    },
    {
      "cell_type": "code",
      "source": [
        "def backward_h():\n",
        "  global h_error, h_delta, U\n",
        "  h_error = W.dot(y_delta)\n",
        "  h_delta = h_deriv * h_error\n",
        "\n",
        "  dU = - learning_rate * np.outer(input, h_delta)\n",
        "  U = + dU"
      ],
      "metadata": {
        "id": "Y-84jCXQLVZX"
      },
      "execution_count": null,
      "outputs": []
    },
    {
      "cell_type": "code",
      "source": [
        "def train(x, target):\n",
        "  forward_xh(x)\n",
        "  forward_hy()\n",
        "  e = compute_error(target)\n",
        "  backward_y(e)\n",
        "  backward_h()\n",
        "  return e**2"
      ],
      "metadata": {
        "id": "kkBhuPSaNr4X"
      },
      "execution_count": null,
      "outputs": []
    },
    {
      "cell_type": "code",
      "source": [
        "loss = []\n",
        "\n",
        "for i in range(1000):\n",
        "    e_accum=0\n",
        "    true = np.array([1,0])\n",
        "    false = np.array([0,1])\n",
        "    e_accum += train(np.array([0,0]), false)    # 훈련 데이터 1\n",
        "    e_accum += train(np.array([0,1]), true)     # 훈련 데이터 2\n",
        "    e_accum += train(np.array([1,0]), true)     # 훈련 데이터 3\n",
        "    e_accum += train(np.array([1,1]), false)    # 훈련 데이터 4\n",
        "    loss.append(e_accum)"
      ],
      "metadata": {
        "id": "47nx6TCfOH2G"
      },
      "execution_count": null,
      "outputs": []
    },
    {
      "cell_type": "code",
      "source": [
        "plt.plot(loss)\n",
        "plt.ylabel('loss')\n",
        "plt.xlabel('training')\n",
        "plt.show()"
      ],
      "metadata": {
        "colab": {
          "base_uri": "https://localhost:8080/",
          "height": 449
        },
        "id": "UtSE-vVIORRw",
        "outputId": "16c3f1c9-4e90-4d2d-fc11-95e5152615cf"
      },
      "execution_count": null,
      "outputs": [
        {
          "output_type": "display_data",
          "data": {
            "text/plain": [
              "<Figure size 640x480 with 1 Axes>"
            ],
            "image/png": "[encoded data removed]"
          },
          "metadata": {}
        }
      ]
    },
    {
      "cell_type": "code",
      "source": [
        "def test(X):\n",
        "    y_hat = []\n",
        "    for x in X:\n",
        "        forward_xh(x)\n",
        "        forward_hy()\n",
        "        y_hat.append(y_out)\n",
        "    return y_hat"
      ],
      "metadata": {
        "id": "Rlgro06gOg33"
      },
      "execution_count": null,
      "outputs": []
    },
    {
      "cell_type": "code",
      "source": [
        "test(np.array([[0, 0], [0, 1], [1, 0], [1, 1]]))\n"
      ],
      "metadata": {
        "colab": {
          "base_uri": "https://localhost:8080/"
        },
        "id": "jQoCJHUTPPdM",
        "outputId": "82393d62-aef7-46af-fac1-15618fa01eab"
      },
      "execution_count": null,
      "outputs": [
        {
          "output_type": "execute_result",
          "data": {
            "text/plain": [
              "[array([0.49915721, 0.50085367]),\n",
              " array([0.49917872, 0.50087664]),\n",
              " array([0.49917872, 0.50087664]),\n",
              " array([0.49920024, 0.50089961])]"
            ]
          },
          "metadata": {},
          "execution_count": 45
        }
      ]
    },
    {
      "cell_type": "code",
      "source": [
        "import pandas as pd\n",
        "import matplotlib.pyplot as plt\n",
        "import numpy as np\n",
        "\n",
        "data_loc = 'https://github.com/dknife/ML/raw/main/data/'\n",
        "df = pd.read_csv(data_loc+'nonlinear.csv')\n",
        "plt.scatter(df['x'], df['y'])"
      ],
      "metadata": {
        "colab": {
          "base_uri": "https://localhost:8080/",
          "height": 448
        },
        "id": "Hm4K2lqjPR0J",
        "outputId": "163854ad-9ecf-4f29-e068-489cc72b9b0a"
      },
      "execution_count": null,
      "outputs": [
        {
          "output_type": "execute_result",
          "data": {
            "text/plain": [
              "<matplotlib.collections.PathCollection at 0x7f3a9ba7ed70>"
            ]
          },
          "metadata": {},
          "execution_count": 46
        },
        {
          "output_type": "display_data",
          "data": {
            "text/plain": [
              "<Figure size 640x480 with 1 Axes>"
            ],
            "image/png": "[encoded data removed]"
          },
          "metadata": {}
        }
      ]
    },
    {
      "cell_type": "code",
      "source": [
        "nx, nh1, nh2, ny = 1, 6, 4, 1\n",
        "U = np.random.randn(nx , nh1)*2\n",
        "V = np.random.randn(nh1, nh2)*2\n",
        "W = np.random.randn(nh2, ny)*2\n",
        "learning_rate = 0.1"
      ],
      "metadata": {
        "id": "5V7uejVsPu3B"
      },
      "execution_count": null,
      "outputs": []
    },
    {
      "cell_type": "code",
      "source": [
        "def sigmoid(v):\n",
        "    return 1 / (1+np.exp(-v))"
      ],
      "metadata": {
        "id": "oZ7Tv0IgPx5D"
      },
      "execution_count": null,
      "outputs": []
    },
    {
      "cell_type": "code",
      "source": [
        "put = np.zeros(nx)\n",
        "\n",
        "h1_out, h1_deriv = np.zeros(nh1), np.zeros(nh1) # 순전파시 계산 - 은닉계층 1\n",
        "h1_delta = np.zeros(nh1)                        # 역전파시 계산\n",
        "\n",
        "h2_out, h2_deriv = np.zeros(nh2), np.zeros(nh2) # 순전파시 계산 - 은닉계층 2\n",
        "h2_delta = np.zeros(nh2)                        # 역전파시 계산\n",
        "\n",
        "y_out, y_deriv = np.zeros(ny), np.zeros(ny)     # 순전파시 계산 - 출력계층\n",
        "y_delta = np.zeros(ny)                          # 역전파시 계산"
      ],
      "metadata": {
        "id": "sPyIx4gTRV1e"
      },
      "execution_count": null,
      "outputs": []
    },
    {
      "cell_type": "code",
      "source": [],
      "metadata": {
        "id": "MOAjbXo-Rorc"
      },
      "execution_count": null,
      "outputs": []
    }
  ]
}